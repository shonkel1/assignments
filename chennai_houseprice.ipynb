{
  "nbformat": 4,
  "nbformat_minor": 0,
  "metadata": {
    "colab": {
      "name": "chennai_houseprice.ipynb",
      "provenance": [],
      "toc_visible": true,
      "authorship_tag": "ABX9TyPfu1V7uNJmZpT8y/glxa6L",
      "include_colab_link": true
    },
    "kernelspec": {
      "name": "python3",
      "display_name": "Python 3"
    },
    "language_info": {
      "name": "python"
    }
  },
  "cells": [
    {
      "cell_type": "markdown",
      "metadata": {
        "id": "view-in-github",
        "colab_type": "text"
      },
      "source": [
        "<a href=\"https://colab.research.google.com/github/shonkel1/assignments/blob/main/chennai_houseprice.ipynb\" target=\"_parent\"><img src=\"https://colab.research.google.com/assets/colab-badge.svg\" alt=\"Open In Colab\"/></a>"
      ]
    },
    {
      "cell_type": "code",
      "execution_count": 1,
      "metadata": {
        "id": "XUd4i5CNKEvt"
      },
      "outputs": [],
      "source": [
        "import pandas as pd\n",
        "import numpy as np\n",
        "import matplotlib.pyplot as plt\n",
        "import seaborn as sns"
      ]
    },
    {
      "cell_type": "code",
      "source": [
        "data = pd.read_csv('/content/train.csv')"
      ],
      "metadata": {
        "id": "EVPTWKXaKyMv"
      },
      "execution_count": 2,
      "outputs": []
    },
    {
      "cell_type": "code",
      "source": [
        "data.shape"
      ],
      "metadata": {
        "colab": {
          "base_uri": "https://localhost:8080/"
        },
        "id": "JAtcRcT-K-21",
        "outputId": "15351fc2-9fa6-4e05-ae27-4142baa83bf0"
      },
      "execution_count": 3,
      "outputs": [
        {
          "output_type": "execute_result",
          "data": {
            "text/plain": [
              "(7109, 22)"
            ]
          },
          "metadata": {},
          "execution_count": 3
        }
      ]
    },
    {
      "cell_type": "code",
      "source": [
        "data.head()"
      ],
      "metadata": {
        "colab": {
          "base_uri": "https://localhost:8080/",
          "height": 386
        },
        "id": "Ftk7FAGjLCCN",
        "outputId": "5af88a0c-b72c-4a7a-d6d3-4b81a032b586"
      },
      "execution_count": 4,
      "outputs": [
        {
          "output_type": "execute_result",
          "data": {
            "text/plain": [
              "   PRT_ID        AREA  INT_SQFT   DATE_SALE  DIST_MAINROAD  N_BEDROOM  \\\n",
              "0  P03210  Karapakkam      1004  04-05-2011            131        1.0   \n",
              "1  P09411  Anna Nagar      1986  19-12-2006             26        2.0   \n",
              "2  P01812       Adyar       909  04-02-2012             70        1.0   \n",
              "3  P05346   Velachery      1855  13-03-2010             14        3.0   \n",
              "4  P06210  Karapakkam      1226  05-10-2009             84        1.0   \n",
              "\n",
              "   N_BATHROOM  N_ROOM SALE_COND PARK_FACIL  ... UTILITY_AVAIL  STREET MZZONE  \\\n",
              "0         1.0       3  AbNormal        Yes  ...        AllPub   Paved      A   \n",
              "1         1.0       5  AbNormal         No  ...        AllPub  Gravel     RH   \n",
              "2         1.0       3  AbNormal        Yes  ...           ELO  Gravel     RL   \n",
              "3         2.0       5    Family         No  ...       NoSewr    Paved      I   \n",
              "4         1.0       3  AbNormal        Yes  ...        AllPub  Gravel      C   \n",
              "\n",
              "  QS_ROOMS QS_BATHROOM  QS_BEDROOM  QS_OVERALL  REG_FEE  COMMIS  SALES_PRICE  \n",
              "0      4.0         3.9         4.9       4.330   380000  144400      7600000  \n",
              "1      4.9         4.2         2.5       3.765   760122  304049     21717770  \n",
              "2      4.1         3.8         2.2       3.090   421094   92114     13159200  \n",
              "3      4.7         3.9         3.6       4.010   356321   77042      9630290  \n",
              "4      3.0         2.5         4.1       3.290   237000   74063      7406250  \n",
              "\n",
              "[5 rows x 22 columns]"
            ],
            "text/html": [
              "\n",
              "  <div id=\"df-42442356-000f-4b23-8c58-7a599e590bb2\">\n",
              "    <div class=\"colab-df-container\">\n",
              "      <div>\n",
              "<style scoped>\n",
              "    .dataframe tbody tr th:only-of-type {\n",
              "        vertical-align: middle;\n",
              "    }\n",
              "\n",
              "    .dataframe tbody tr th {\n",
              "        vertical-align: top;\n",
              "    }\n",
              "\n",
              "    .dataframe thead th {\n",
              "        text-align: right;\n",
              "    }\n",
              "</style>\n",
              "<table border=\"1\" class=\"dataframe\">\n",
              "  <thead>\n",
              "    <tr style=\"text-align: right;\">\n",
              "      <th></th>\n",
              "      <th>PRT_ID</th>\n",
              "      <th>AREA</th>\n",
              "      <th>INT_SQFT</th>\n",
              "      <th>DATE_SALE</th>\n",
              "      <th>DIST_MAINROAD</th>\n",
              "      <th>N_BEDROOM</th>\n",
              "      <th>N_BATHROOM</th>\n",
              "      <th>N_ROOM</th>\n",
              "      <th>SALE_COND</th>\n",
              "      <th>PARK_FACIL</th>\n",
              "      <th>...</th>\n",
              "      <th>UTILITY_AVAIL</th>\n",
              "      <th>STREET</th>\n",
              "      <th>MZZONE</th>\n",
              "      <th>QS_ROOMS</th>\n",
              "      <th>QS_BATHROOM</th>\n",
              "      <th>QS_BEDROOM</th>\n",
              "      <th>QS_OVERALL</th>\n",
              "      <th>REG_FEE</th>\n",
              "      <th>COMMIS</th>\n",
              "      <th>SALES_PRICE</th>\n",
              "    </tr>\n",
              "  </thead>\n",
              "  <tbody>\n",
              "    <tr>\n",
              "      <th>0</th>\n",
              "      <td>P03210</td>\n",
              "      <td>Karapakkam</td>\n",
              "      <td>1004</td>\n",
              "      <td>04-05-2011</td>\n",
              "      <td>131</td>\n",
              "      <td>1.0</td>\n",
              "      <td>1.0</td>\n",
              "      <td>3</td>\n",
              "      <td>AbNormal</td>\n",
              "      <td>Yes</td>\n",
              "      <td>...</td>\n",
              "      <td>AllPub</td>\n",
              "      <td>Paved</td>\n",
              "      <td>A</td>\n",
              "      <td>4.0</td>\n",
              "      <td>3.9</td>\n",
              "      <td>4.9</td>\n",
              "      <td>4.330</td>\n",
              "      <td>380000</td>\n",
              "      <td>144400</td>\n",
              "      <td>7600000</td>\n",
              "    </tr>\n",
              "    <tr>\n",
              "      <th>1</th>\n",
              "      <td>P09411</td>\n",
              "      <td>Anna Nagar</td>\n",
              "      <td>1986</td>\n",
              "      <td>19-12-2006</td>\n",
              "      <td>26</td>\n",
              "      <td>2.0</td>\n",
              "      <td>1.0</td>\n",
              "      <td>5</td>\n",
              "      <td>AbNormal</td>\n",
              "      <td>No</td>\n",
              "      <td>...</td>\n",
              "      <td>AllPub</td>\n",
              "      <td>Gravel</td>\n",
              "      <td>RH</td>\n",
              "      <td>4.9</td>\n",
              "      <td>4.2</td>\n",
              "      <td>2.5</td>\n",
              "      <td>3.765</td>\n",
              "      <td>760122</td>\n",
              "      <td>304049</td>\n",
              "      <td>21717770</td>\n",
              "    </tr>\n",
              "    <tr>\n",
              "      <th>2</th>\n",
              "      <td>P01812</td>\n",
              "      <td>Adyar</td>\n",
              "      <td>909</td>\n",
              "      <td>04-02-2012</td>\n",
              "      <td>70</td>\n",
              "      <td>1.0</td>\n",
              "      <td>1.0</td>\n",
              "      <td>3</td>\n",
              "      <td>AbNormal</td>\n",
              "      <td>Yes</td>\n",
              "      <td>...</td>\n",
              "      <td>ELO</td>\n",
              "      <td>Gravel</td>\n",
              "      <td>RL</td>\n",
              "      <td>4.1</td>\n",
              "      <td>3.8</td>\n",
              "      <td>2.2</td>\n",
              "      <td>3.090</td>\n",
              "      <td>421094</td>\n",
              "      <td>92114</td>\n",
              "      <td>13159200</td>\n",
              "    </tr>\n",
              "    <tr>\n",
              "      <th>3</th>\n",
              "      <td>P05346</td>\n",
              "      <td>Velachery</td>\n",
              "      <td>1855</td>\n",
              "      <td>13-03-2010</td>\n",
              "      <td>14</td>\n",
              "      <td>3.0</td>\n",
              "      <td>2.0</td>\n",
              "      <td>5</td>\n",
              "      <td>Family</td>\n",
              "      <td>No</td>\n",
              "      <td>...</td>\n",
              "      <td>NoSewr</td>\n",
              "      <td>Paved</td>\n",
              "      <td>I</td>\n",
              "      <td>4.7</td>\n",
              "      <td>3.9</td>\n",
              "      <td>3.6</td>\n",
              "      <td>4.010</td>\n",
              "      <td>356321</td>\n",
              "      <td>77042</td>\n",
              "      <td>9630290</td>\n",
              "    </tr>\n",
              "    <tr>\n",
              "      <th>4</th>\n",
              "      <td>P06210</td>\n",
              "      <td>Karapakkam</td>\n",
              "      <td>1226</td>\n",
              "      <td>05-10-2009</td>\n",
              "      <td>84</td>\n",
              "      <td>1.0</td>\n",
              "      <td>1.0</td>\n",
              "      <td>3</td>\n",
              "      <td>AbNormal</td>\n",
              "      <td>Yes</td>\n",
              "      <td>...</td>\n",
              "      <td>AllPub</td>\n",
              "      <td>Gravel</td>\n",
              "      <td>C</td>\n",
              "      <td>3.0</td>\n",
              "      <td>2.5</td>\n",
              "      <td>4.1</td>\n",
              "      <td>3.290</td>\n",
              "      <td>237000</td>\n",
              "      <td>74063</td>\n",
              "      <td>7406250</td>\n",
              "    </tr>\n",
              "  </tbody>\n",
              "</table>\n",
              "<p>5 rows × 22 columns</p>\n",
              "</div>\n",
              "      <button class=\"colab-df-convert\" onclick=\"convertToInteractive('df-42442356-000f-4b23-8c58-7a599e590bb2')\"\n",
              "              title=\"Convert this dataframe to an interactive table.\"\n",
              "              style=\"display:none;\">\n",
              "        \n",
              "  <svg xmlns=\"http://www.w3.org/2000/svg\" height=\"24px\"viewBox=\"0 0 24 24\"\n",
              "       width=\"24px\">\n",
              "    <path d=\"M0 0h24v24H0V0z\" fill=\"none\"/>\n",
              "    <path d=\"M18.56 5.44l.94 2.06.94-2.06 2.06-.94-2.06-.94-.94-2.06-.94 2.06-2.06.94zm-11 1L8.5 8.5l.94-2.06 2.06-.94-2.06-.94L8.5 2.5l-.94 2.06-2.06.94zm10 10l.94 2.06.94-2.06 2.06-.94-2.06-.94-.94-2.06-.94 2.06-2.06.94z\"/><path d=\"M17.41 7.96l-1.37-1.37c-.4-.4-.92-.59-1.43-.59-.52 0-1.04.2-1.43.59L10.3 9.45l-7.72 7.72c-.78.78-.78 2.05 0 2.83L4 21.41c.39.39.9.59 1.41.59.51 0 1.02-.2 1.41-.59l7.78-7.78 2.81-2.81c.8-.78.8-2.07 0-2.86zM5.41 20L4 18.59l7.72-7.72 1.47 1.35L5.41 20z\"/>\n",
              "  </svg>\n",
              "      </button>\n",
              "      \n",
              "  <style>\n",
              "    .colab-df-container {\n",
              "      display:flex;\n",
              "      flex-wrap:wrap;\n",
              "      gap: 12px;\n",
              "    }\n",
              "\n",
              "    .colab-df-convert {\n",
              "      background-color: #E8F0FE;\n",
              "      border: none;\n",
              "      border-radius: 50%;\n",
              "      cursor: pointer;\n",
              "      display: none;\n",
              "      fill: #1967D2;\n",
              "      height: 32px;\n",
              "      padding: 0 0 0 0;\n",
              "      width: 32px;\n",
              "    }\n",
              "\n",
              "    .colab-df-convert:hover {\n",
              "      background-color: #E2EBFA;\n",
              "      box-shadow: 0px 1px 2px rgba(60, 64, 67, 0.3), 0px 1px 3px 1px rgba(60, 64, 67, 0.15);\n",
              "      fill: #174EA6;\n",
              "    }\n",
              "\n",
              "    [theme=dark] .colab-df-convert {\n",
              "      background-color: #3B4455;\n",
              "      fill: #D2E3FC;\n",
              "    }\n",
              "\n",
              "    [theme=dark] .colab-df-convert:hover {\n",
              "      background-color: #434B5C;\n",
              "      box-shadow: 0px 1px 3px 1px rgba(0, 0, 0, 0.15);\n",
              "      filter: drop-shadow(0px 1px 2px rgba(0, 0, 0, 0.3));\n",
              "      fill: #FFFFFF;\n",
              "    }\n",
              "  </style>\n",
              "\n",
              "      <script>\n",
              "        const buttonEl =\n",
              "          document.querySelector('#df-42442356-000f-4b23-8c58-7a599e590bb2 button.colab-df-convert');\n",
              "        buttonEl.style.display =\n",
              "          google.colab.kernel.accessAllowed ? 'block' : 'none';\n",
              "\n",
              "        async function convertToInteractive(key) {\n",
              "          const element = document.querySelector('#df-42442356-000f-4b23-8c58-7a599e590bb2');\n",
              "          const dataTable =\n",
              "            await google.colab.kernel.invokeFunction('convertToInteractive',\n",
              "                                                     [key], {});\n",
              "          if (!dataTable) return;\n",
              "\n",
              "          const docLinkHtml = 'Like what you see? Visit the ' +\n",
              "            '<a target=\"_blank\" href=https://colab.research.google.com/notebooks/data_table.ipynb>data table notebook</a>'\n",
              "            + ' to learn more about interactive tables.';\n",
              "          element.innerHTML = '';\n",
              "          dataTable['output_type'] = 'display_data';\n",
              "          await google.colab.output.renderOutput(dataTable, element);\n",
              "          const docLink = document.createElement('div');\n",
              "          docLink.innerHTML = docLinkHtml;\n",
              "          element.appendChild(docLink);\n",
              "        }\n",
              "      </script>\n",
              "    </div>\n",
              "  </div>\n",
              "  "
            ]
          },
          "metadata": {},
          "execution_count": 4
        }
      ]
    },
    {
      "cell_type": "code",
      "source": [
        "data = data.drop(columns=['PRT_ID','REG_FEE','COMMIS'])"
      ],
      "metadata": {
        "id": "URyfwZuRLFB2"
      },
      "execution_count": 5,
      "outputs": []
    },
    {
      "cell_type": "code",
      "source": [
        "data.info()"
      ],
      "metadata": {
        "colab": {
          "base_uri": "https://localhost:8080/"
        },
        "id": "i4xJga0GLigD",
        "outputId": "ff2df440-dab1-481f-b33c-8ade016bea16"
      },
      "execution_count": 6,
      "outputs": [
        {
          "output_type": "stream",
          "name": "stdout",
          "text": [
            "<class 'pandas.core.frame.DataFrame'>\n",
            "RangeIndex: 7109 entries, 0 to 7108\n",
            "Data columns (total 19 columns):\n",
            " #   Column         Non-Null Count  Dtype  \n",
            "---  ------         --------------  -----  \n",
            " 0   AREA           7109 non-null   object \n",
            " 1   INT_SQFT       7109 non-null   int64  \n",
            " 2   DATE_SALE      7109 non-null   object \n",
            " 3   DIST_MAINROAD  7109 non-null   int64  \n",
            " 4   N_BEDROOM      7108 non-null   float64\n",
            " 5   N_BATHROOM     7104 non-null   float64\n",
            " 6   N_ROOM         7109 non-null   int64  \n",
            " 7   SALE_COND      7109 non-null   object \n",
            " 8   PARK_FACIL     7109 non-null   object \n",
            " 9   DATE_BUILD     7109 non-null   object \n",
            " 10  BUILDTYPE      7109 non-null   object \n",
            " 11  UTILITY_AVAIL  7109 non-null   object \n",
            " 12  STREET         7109 non-null   object \n",
            " 13  MZZONE         7109 non-null   object \n",
            " 14  QS_ROOMS       7109 non-null   float64\n",
            " 15  QS_BATHROOM    7109 non-null   float64\n",
            " 16  QS_BEDROOM     7109 non-null   float64\n",
            " 17  QS_OVERALL     7061 non-null   float64\n",
            " 18  SALES_PRICE    7109 non-null   int64  \n",
            "dtypes: float64(6), int64(4), object(9)\n",
            "memory usage: 1.0+ MB\n"
          ]
        }
      ]
    },
    {
      "cell_type": "code",
      "source": [
        "data.columns"
      ],
      "metadata": {
        "colab": {
          "base_uri": "https://localhost:8080/"
        },
        "id": "zmYnX8PYLmNl",
        "outputId": "f1adbf38-e523-4b70-f1c7-fe34d07ca4e9"
      },
      "execution_count": 7,
      "outputs": [
        {
          "output_type": "execute_result",
          "data": {
            "text/plain": [
              "Index(['AREA', 'INT_SQFT', 'DATE_SALE', 'DIST_MAINROAD', 'N_BEDROOM',\n",
              "       'N_BATHROOM', 'N_ROOM', 'SALE_COND', 'PARK_FACIL', 'DATE_BUILD',\n",
              "       'BUILDTYPE', 'UTILITY_AVAIL', 'STREET', 'MZZONE', 'QS_ROOMS',\n",
              "       'QS_BATHROOM', 'QS_BEDROOM', 'QS_OVERALL', 'SALES_PRICE'],\n",
              "      dtype='object')"
            ]
          },
          "metadata": {},
          "execution_count": 7
        }
      ]
    },
    {
      "cell_type": "code",
      "source": [
        "data.AREA.values"
      ],
      "metadata": {
        "colab": {
          "base_uri": "https://localhost:8080/"
        },
        "id": "zWHdx4SzLp7f",
        "outputId": "c4eaa2aa-0bdf-41ba-d75e-97886481d761"
      },
      "execution_count": 8,
      "outputs": [
        {
          "output_type": "execute_result",
          "data": {
            "text/plain": [
              "array(['Karapakkam', 'Anna Nagar', 'Adyar', ..., 'Velachery',\n",
              "       'Karapakkam', 'Velachery'], dtype=object)"
            ]
          },
          "metadata": {},
          "execution_count": 8
        }
      ]
    },
    {
      "cell_type": "code",
      "source": [
        "data.AREA.unique()"
      ],
      "metadata": {
        "colab": {
          "base_uri": "https://localhost:8080/"
        },
        "id": "zJXLCnI8LymD",
        "outputId": "1ccc205d-b4f5-49df-fd32-54e32b6e757b"
      },
      "execution_count": 9,
      "outputs": [
        {
          "output_type": "execute_result",
          "data": {
            "text/plain": [
              "array(['Karapakkam', 'Anna Nagar', 'Adyar', 'Velachery', 'Chrompet',\n",
              "       'KK Nagar', 'TNagar', 'T Nagar', 'Chrompt', 'Chrmpet', 'Karapakam',\n",
              "       'Ana Nagar', 'Chormpet', 'Adyr', 'Velchery', 'Ann Nagar',\n",
              "       'KKNagar'], dtype=object)"
            ]
          },
          "metadata": {},
          "execution_count": 9
        }
      ]
    },
    {
      "cell_type": "code",
      "source": [
        "data.AREA.replace('Karapakam','Karapakkam',inplace=True)\n",
        "data.AREA.replace('Ann Nagar','Anna Nagar',inplace=True)\n",
        "data.AREA.replace('Adyr','Adyar',inplace=True)\n",
        "data.AREA.replace('Velchery','Velachery',inplace=True)\n",
        "data.AREA.replace('Chrompt','Chrompet',inplace=True)\n",
        "data.AREA.replace('Chrmpet','Chrompet',inplace=True)\n",
        "data.AREA.replace('KKNagar','KK Nagar',inplace=True)\n",
        "data.AREA.replace('TNagar','T Nagar',inplace=True)\n",
        "data.AREA.replace('Chormpet','Chrompet',inplace=True)\n",
        "data.AREA.replace('Ana Nagar','Anna Nagar',inplace=True)\n"
      ],
      "metadata": {
        "id": "cCMkoT1SL5LU"
      },
      "execution_count": 10,
      "outputs": []
    },
    {
      "cell_type": "code",
      "source": [
        "data.AREA.unique()"
      ],
      "metadata": {
        "colab": {
          "base_uri": "https://localhost:8080/"
        },
        "id": "-H-wllihNltS",
        "outputId": "616038fe-2a74-4434-d87f-12d9c87b4870"
      },
      "execution_count": 11,
      "outputs": [
        {
          "output_type": "execute_result",
          "data": {
            "text/plain": [
              "array(['Karapakkam', 'Anna Nagar', 'Adyar', 'Velachery', 'Chrompet',\n",
              "       'KK Nagar', 'T Nagar'], dtype=object)"
            ]
          },
          "metadata": {},
          "execution_count": 11
        }
      ]
    },
    {
      "cell_type": "code",
      "source": [
        "data.AREA.isnull().sum()"
      ],
      "metadata": {
        "colab": {
          "base_uri": "https://localhost:8080/"
        },
        "id": "5M84Ba0QNr1f",
        "outputId": "9c3c983b-8872-41c5-822d-389bf45656e8"
      },
      "execution_count": 12,
      "outputs": [
        {
          "output_type": "execute_result",
          "data": {
            "text/plain": [
              "0"
            ]
          },
          "metadata": {},
          "execution_count": 12
        }
      ]
    },
    {
      "cell_type": "code",
      "source": [
        "data.INT_SQFT.isnull().sum()"
      ],
      "metadata": {
        "colab": {
          "base_uri": "https://localhost:8080/"
        },
        "id": "EBMF1IcoNyrD",
        "outputId": "88aad825-74b3-4de0-a4f3-1ff999862629"
      },
      "execution_count": 13,
      "outputs": [
        {
          "output_type": "execute_result",
          "data": {
            "text/plain": [
              "0"
            ]
          },
          "metadata": {},
          "execution_count": 13
        }
      ]
    },
    {
      "cell_type": "code",
      "source": [
        "data.INT_SQFT.describe()"
      ],
      "metadata": {
        "colab": {
          "base_uri": "https://localhost:8080/"
        },
        "id": "1UuTO4PWPgGW",
        "outputId": "d53d532a-6314-45da-a956-2a653d472679"
      },
      "execution_count": 14,
      "outputs": [
        {
          "output_type": "execute_result",
          "data": {
            "text/plain": [
              "count    7109.000000\n",
              "mean     1382.073006\n",
              "std       457.410902\n",
              "min       500.000000\n",
              "25%       993.000000\n",
              "50%      1373.000000\n",
              "75%      1744.000000\n",
              "max      2500.000000\n",
              "Name: INT_SQFT, dtype: float64"
            ]
          },
          "metadata": {},
          "execution_count": 14
        }
      ]
    },
    {
      "cell_type": "code",
      "source": [
        "data.DATE_SALE.values[0]"
      ],
      "metadata": {
        "colab": {
          "base_uri": "https://localhost:8080/",
          "height": 36
        },
        "id": "8rI64aMLPou4",
        "outputId": "785278dc-ded9-4c1b-d8b9-20c2d62a91de"
      },
      "execution_count": 15,
      "outputs": [
        {
          "output_type": "execute_result",
          "data": {
            "text/plain": [
              "'04-05-2011'"
            ],
            "application/vnd.google.colaboratory.intrinsic+json": {
              "type": "string"
            }
          },
          "metadata": {},
          "execution_count": 15
        }
      ]
    },
    {
      "cell_type": "code",
      "source": [
        "data.DATE_SALE.isnull().sum()"
      ],
      "metadata": {
        "colab": {
          "base_uri": "https://localhost:8080/"
        },
        "id": "KxivKoXUP-FA",
        "outputId": "0e15cd12-2417-4fc5-ac91-4b477c2919b9"
      },
      "execution_count": 16,
      "outputs": [
        {
          "output_type": "execute_result",
          "data": {
            "text/plain": [
              "0"
            ]
          },
          "metadata": {},
          "execution_count": 16
        }
      ]
    },
    {
      "cell_type": "code",
      "source": [
        "data.DATE_BUILD.values[0]"
      ],
      "metadata": {
        "colab": {
          "base_uri": "https://localhost:8080/",
          "height": 36
        },
        "id": "qr41svoLQFed",
        "outputId": "6e6d561f-e1c2-40f0-e9f2-01ced499ccda"
      },
      "execution_count": 17,
      "outputs": [
        {
          "output_type": "execute_result",
          "data": {
            "text/plain": [
              "'15-05-1967'"
            ],
            "application/vnd.google.colaboratory.intrinsic+json": {
              "type": "string"
            }
          },
          "metadata": {},
          "execution_count": 17
        }
      ]
    },
    {
      "cell_type": "code",
      "source": [
        "data.DATE_BUILD.isnull().sum()"
      ],
      "metadata": {
        "colab": {
          "base_uri": "https://localhost:8080/"
        },
        "id": "lAkp2jdUQOGl",
        "outputId": "8dda94ae-458a-4db6-ecc9-e9eba114fc53"
      },
      "execution_count": 18,
      "outputs": [
        {
          "output_type": "execute_result",
          "data": {
            "text/plain": [
              "0"
            ]
          },
          "metadata": {},
          "execution_count": 18
        }
      ]
    },
    {
      "cell_type": "code",
      "source": [
        "data.DATE_BUILD = pd.to_datetime(data.DATE_BUILD)\n",
        "data.DATE_SALE = pd.to_datetime(data.DATE_SALE)"
      ],
      "metadata": {
        "id": "A9KWNGLeQUgU"
      },
      "execution_count": 19,
      "outputs": []
    },
    {
      "cell_type": "code",
      "source": [
        "data.DATE_BUILD = data.DATE_BUILD.dt.year\n",
        "data.DATE_SALE = data.DATE_SALE.dt.year"
      ],
      "metadata": {
        "id": "Rj26B1JNQtDA"
      },
      "execution_count": 20,
      "outputs": []
    },
    {
      "cell_type": "code",
      "source": [
        "data[\"AGE\"]= data.DATE_SALE-data.DATE_BUILD"
      ],
      "metadata": {
        "id": "ABbn---CRoR4"
      },
      "execution_count": 21,
      "outputs": []
    },
    {
      "cell_type": "code",
      "source": [
        "data = data.drop(columns=['DATE_BUILD','DATE_SALE'])"
      ],
      "metadata": {
        "id": "ayBS1CwxR311"
      },
      "execution_count": 22,
      "outputs": []
    },
    {
      "cell_type": "code",
      "source": [
        "data.head()"
      ],
      "metadata": {
        "colab": {
          "base_uri": "https://localhost:8080/",
          "height": 206
        },
        "id": "4xM3VWWtSheP",
        "outputId": "64bd9c8e-aaf6-44e6-a2cd-b6c286f133f4"
      },
      "execution_count": 23,
      "outputs": [
        {
          "output_type": "execute_result",
          "data": {
            "text/plain": [
              "         AREA  INT_SQFT  DIST_MAINROAD  N_BEDROOM  N_BATHROOM  N_ROOM  \\\n",
              "0  Karapakkam      1004            131        1.0         1.0       3   \n",
              "1  Anna Nagar      1986             26        2.0         1.0       5   \n",
              "2       Adyar       909             70        1.0         1.0       3   \n",
              "3   Velachery      1855             14        3.0         2.0       5   \n",
              "4  Karapakkam      1226             84        1.0         1.0       3   \n",
              "\n",
              "  SALE_COND PARK_FACIL   BUILDTYPE UTILITY_AVAIL  STREET MZZONE  QS_ROOMS  \\\n",
              "0  AbNormal        Yes  Commercial        AllPub   Paved      A       4.0   \n",
              "1  AbNormal         No  Commercial        AllPub  Gravel     RH       4.9   \n",
              "2  AbNormal        Yes  Commercial           ELO  Gravel     RL       4.1   \n",
              "3    Family         No      Others       NoSewr    Paved      I       4.7   \n",
              "4  AbNormal        Yes      Others        AllPub  Gravel      C       3.0   \n",
              "\n",
              "   QS_BATHROOM  QS_BEDROOM  QS_OVERALL  SALES_PRICE  AGE  \n",
              "0          3.9         4.9       4.330      7600000   44  \n",
              "1          4.2         2.5       3.765     21717770   11  \n",
              "2          3.8         2.2       3.090     13159200   20  \n",
              "3          3.9         3.6       4.010      9630290   22  \n",
              "4          2.5         4.1       3.290      7406250   30  "
            ],
            "text/html": [
              "\n",
              "  <div id=\"df-ace147ce-c9a1-4d9c-9d84-fcad1d9d4779\">\n",
              "    <div class=\"colab-df-container\">\n",
              "      <div>\n",
              "<style scoped>\n",
              "    .dataframe tbody tr th:only-of-type {\n",
              "        vertical-align: middle;\n",
              "    }\n",
              "\n",
              "    .dataframe tbody tr th {\n",
              "        vertical-align: top;\n",
              "    }\n",
              "\n",
              "    .dataframe thead th {\n",
              "        text-align: right;\n",
              "    }\n",
              "</style>\n",
              "<table border=\"1\" class=\"dataframe\">\n",
              "  <thead>\n",
              "    <tr style=\"text-align: right;\">\n",
              "      <th></th>\n",
              "      <th>AREA</th>\n",
              "      <th>INT_SQFT</th>\n",
              "      <th>DIST_MAINROAD</th>\n",
              "      <th>N_BEDROOM</th>\n",
              "      <th>N_BATHROOM</th>\n",
              "      <th>N_ROOM</th>\n",
              "      <th>SALE_COND</th>\n",
              "      <th>PARK_FACIL</th>\n",
              "      <th>BUILDTYPE</th>\n",
              "      <th>UTILITY_AVAIL</th>\n",
              "      <th>STREET</th>\n",
              "      <th>MZZONE</th>\n",
              "      <th>QS_ROOMS</th>\n",
              "      <th>QS_BATHROOM</th>\n",
              "      <th>QS_BEDROOM</th>\n",
              "      <th>QS_OVERALL</th>\n",
              "      <th>SALES_PRICE</th>\n",
              "      <th>AGE</th>\n",
              "    </tr>\n",
              "  </thead>\n",
              "  <tbody>\n",
              "    <tr>\n",
              "      <th>0</th>\n",
              "      <td>Karapakkam</td>\n",
              "      <td>1004</td>\n",
              "      <td>131</td>\n",
              "      <td>1.0</td>\n",
              "      <td>1.0</td>\n",
              "      <td>3</td>\n",
              "      <td>AbNormal</td>\n",
              "      <td>Yes</td>\n",
              "      <td>Commercial</td>\n",
              "      <td>AllPub</td>\n",
              "      <td>Paved</td>\n",
              "      <td>A</td>\n",
              "      <td>4.0</td>\n",
              "      <td>3.9</td>\n",
              "      <td>4.9</td>\n",
              "      <td>4.330</td>\n",
              "      <td>7600000</td>\n",
              "      <td>44</td>\n",
              "    </tr>\n",
              "    <tr>\n",
              "      <th>1</th>\n",
              "      <td>Anna Nagar</td>\n",
              "      <td>1986</td>\n",
              "      <td>26</td>\n",
              "      <td>2.0</td>\n",
              "      <td>1.0</td>\n",
              "      <td>5</td>\n",
              "      <td>AbNormal</td>\n",
              "      <td>No</td>\n",
              "      <td>Commercial</td>\n",
              "      <td>AllPub</td>\n",
              "      <td>Gravel</td>\n",
              "      <td>RH</td>\n",
              "      <td>4.9</td>\n",
              "      <td>4.2</td>\n",
              "      <td>2.5</td>\n",
              "      <td>3.765</td>\n",
              "      <td>21717770</td>\n",
              "      <td>11</td>\n",
              "    </tr>\n",
              "    <tr>\n",
              "      <th>2</th>\n",
              "      <td>Adyar</td>\n",
              "      <td>909</td>\n",
              "      <td>70</td>\n",
              "      <td>1.0</td>\n",
              "      <td>1.0</td>\n",
              "      <td>3</td>\n",
              "      <td>AbNormal</td>\n",
              "      <td>Yes</td>\n",
              "      <td>Commercial</td>\n",
              "      <td>ELO</td>\n",
              "      <td>Gravel</td>\n",
              "      <td>RL</td>\n",
              "      <td>4.1</td>\n",
              "      <td>3.8</td>\n",
              "      <td>2.2</td>\n",
              "      <td>3.090</td>\n",
              "      <td>13159200</td>\n",
              "      <td>20</td>\n",
              "    </tr>\n",
              "    <tr>\n",
              "      <th>3</th>\n",
              "      <td>Velachery</td>\n",
              "      <td>1855</td>\n",
              "      <td>14</td>\n",
              "      <td>3.0</td>\n",
              "      <td>2.0</td>\n",
              "      <td>5</td>\n",
              "      <td>Family</td>\n",
              "      <td>No</td>\n",
              "      <td>Others</td>\n",
              "      <td>NoSewr</td>\n",
              "      <td>Paved</td>\n",
              "      <td>I</td>\n",
              "      <td>4.7</td>\n",
              "      <td>3.9</td>\n",
              "      <td>3.6</td>\n",
              "      <td>4.010</td>\n",
              "      <td>9630290</td>\n",
              "      <td>22</td>\n",
              "    </tr>\n",
              "    <tr>\n",
              "      <th>4</th>\n",
              "      <td>Karapakkam</td>\n",
              "      <td>1226</td>\n",
              "      <td>84</td>\n",
              "      <td>1.0</td>\n",
              "      <td>1.0</td>\n",
              "      <td>3</td>\n",
              "      <td>AbNormal</td>\n",
              "      <td>Yes</td>\n",
              "      <td>Others</td>\n",
              "      <td>AllPub</td>\n",
              "      <td>Gravel</td>\n",
              "      <td>C</td>\n",
              "      <td>3.0</td>\n",
              "      <td>2.5</td>\n",
              "      <td>4.1</td>\n",
              "      <td>3.290</td>\n",
              "      <td>7406250</td>\n",
              "      <td>30</td>\n",
              "    </tr>\n",
              "  </tbody>\n",
              "</table>\n",
              "</div>\n",
              "      <button class=\"colab-df-convert\" onclick=\"convertToInteractive('df-ace147ce-c9a1-4d9c-9d84-fcad1d9d4779')\"\n",
              "              title=\"Convert this dataframe to an interactive table.\"\n",
              "              style=\"display:none;\">\n",
              "        \n",
              "  <svg xmlns=\"http://www.w3.org/2000/svg\" height=\"24px\"viewBox=\"0 0 24 24\"\n",
              "       width=\"24px\">\n",
              "    <path d=\"M0 0h24v24H0V0z\" fill=\"none\"/>\n",
              "    <path d=\"M18.56 5.44l.94 2.06.94-2.06 2.06-.94-2.06-.94-.94-2.06-.94 2.06-2.06.94zm-11 1L8.5 8.5l.94-2.06 2.06-.94-2.06-.94L8.5 2.5l-.94 2.06-2.06.94zm10 10l.94 2.06.94-2.06 2.06-.94-2.06-.94-.94-2.06-.94 2.06-2.06.94z\"/><path d=\"M17.41 7.96l-1.37-1.37c-.4-.4-.92-.59-1.43-.59-.52 0-1.04.2-1.43.59L10.3 9.45l-7.72 7.72c-.78.78-.78 2.05 0 2.83L4 21.41c.39.39.9.59 1.41.59.51 0 1.02-.2 1.41-.59l7.78-7.78 2.81-2.81c.8-.78.8-2.07 0-2.86zM5.41 20L4 18.59l7.72-7.72 1.47 1.35L5.41 20z\"/>\n",
              "  </svg>\n",
              "      </button>\n",
              "      \n",
              "  <style>\n",
              "    .colab-df-container {\n",
              "      display:flex;\n",
              "      flex-wrap:wrap;\n",
              "      gap: 12px;\n",
              "    }\n",
              "\n",
              "    .colab-df-convert {\n",
              "      background-color: #E8F0FE;\n",
              "      border: none;\n",
              "      border-radius: 50%;\n",
              "      cursor: pointer;\n",
              "      display: none;\n",
              "      fill: #1967D2;\n",
              "      height: 32px;\n",
              "      padding: 0 0 0 0;\n",
              "      width: 32px;\n",
              "    }\n",
              "\n",
              "    .colab-df-convert:hover {\n",
              "      background-color: #E2EBFA;\n",
              "      box-shadow: 0px 1px 2px rgba(60, 64, 67, 0.3), 0px 1px 3px 1px rgba(60, 64, 67, 0.15);\n",
              "      fill: #174EA6;\n",
              "    }\n",
              "\n",
              "    [theme=dark] .colab-df-convert {\n",
              "      background-color: #3B4455;\n",
              "      fill: #D2E3FC;\n",
              "    }\n",
              "\n",
              "    [theme=dark] .colab-df-convert:hover {\n",
              "      background-color: #434B5C;\n",
              "      box-shadow: 0px 1px 3px 1px rgba(0, 0, 0, 0.15);\n",
              "      filter: drop-shadow(0px 1px 2px rgba(0, 0, 0, 0.3));\n",
              "      fill: #FFFFFF;\n",
              "    }\n",
              "  </style>\n",
              "\n",
              "      <script>\n",
              "        const buttonEl =\n",
              "          document.querySelector('#df-ace147ce-c9a1-4d9c-9d84-fcad1d9d4779 button.colab-df-convert');\n",
              "        buttonEl.style.display =\n",
              "          google.colab.kernel.accessAllowed ? 'block' : 'none';\n",
              "\n",
              "        async function convertToInteractive(key) {\n",
              "          const element = document.querySelector('#df-ace147ce-c9a1-4d9c-9d84-fcad1d9d4779');\n",
              "          const dataTable =\n",
              "            await google.colab.kernel.invokeFunction('convertToInteractive',\n",
              "                                                     [key], {});\n",
              "          if (!dataTable) return;\n",
              "\n",
              "          const docLinkHtml = 'Like what you see? Visit the ' +\n",
              "            '<a target=\"_blank\" href=https://colab.research.google.com/notebooks/data_table.ipynb>data table notebook</a>'\n",
              "            + ' to learn more about interactive tables.';\n",
              "          element.innerHTML = '';\n",
              "          dataTable['output_type'] = 'display_data';\n",
              "          await google.colab.output.renderOutput(dataTable, element);\n",
              "          const docLink = document.createElement('div');\n",
              "          docLink.innerHTML = docLinkHtml;\n",
              "          element.appendChild(docLink);\n",
              "        }\n",
              "      </script>\n",
              "    </div>\n",
              "  </div>\n",
              "  "
            ]
          },
          "metadata": {},
          "execution_count": 23
        }
      ]
    },
    {
      "cell_type": "code",
      "source": [
        "data.DIST_MAINROAD.describe()"
      ],
      "metadata": {
        "colab": {
          "base_uri": "https://localhost:8080/"
        },
        "id": "m4EFgR75SmwE",
        "outputId": "87d57642-f9b8-47e7-f0df-d9393d26fc58"
      },
      "execution_count": 24,
      "outputs": [
        {
          "output_type": "execute_result",
          "data": {
            "text/plain": [
              "count    7109.000000\n",
              "mean       99.603179\n",
              "std        57.403110\n",
              "min         0.000000\n",
              "25%        50.000000\n",
              "50%        99.000000\n",
              "75%       148.000000\n",
              "max       200.000000\n",
              "Name: DIST_MAINROAD, dtype: float64"
            ]
          },
          "metadata": {},
          "execution_count": 24
        }
      ]
    },
    {
      "cell_type": "code",
      "source": [
        "data.DIST_MAINROAD.isnull().sum()"
      ],
      "metadata": {
        "colab": {
          "base_uri": "https://localhost:8080/"
        },
        "id": "m7r2ZYujS58N",
        "outputId": "b3f1d0a7-7824-4ef8-d8c2-af700e6b9681"
      },
      "execution_count": 25,
      "outputs": [
        {
          "output_type": "execute_result",
          "data": {
            "text/plain": [
              "0"
            ]
          },
          "metadata": {},
          "execution_count": 25
        }
      ]
    },
    {
      "cell_type": "code",
      "source": [
        "data.N_BEDROOM.isnull().sum()"
      ],
      "metadata": {
        "colab": {
          "base_uri": "https://localhost:8080/"
        },
        "id": "E-FoNBGSS_8T",
        "outputId": "a057bfa2-3edd-4fe7-b420-cb80a0ac73ea"
      },
      "execution_count": 26,
      "outputs": [
        {
          "output_type": "execute_result",
          "data": {
            "text/plain": [
              "1"
            ]
          },
          "metadata": {},
          "execution_count": 26
        }
      ]
    },
    {
      "cell_type": "code",
      "source": [
        "data['N_BEDROOM'] = data.N_BEDROOM.fillna(data['N_BEDROOM'].mode()[0])"
      ],
      "metadata": {
        "id": "uMAQbLr7THWt"
      },
      "execution_count": 27,
      "outputs": []
    },
    {
      "cell_type": "code",
      "source": [
        "data.N_BEDROOM.isnull().sum()"
      ],
      "metadata": {
        "id": "sY85TUmnTdE9",
        "colab": {
          "base_uri": "https://localhost:8080/"
        },
        "outputId": "3174e64b-ee38-4075-d924-34dfd3d06998"
      },
      "execution_count": 28,
      "outputs": [
        {
          "output_type": "execute_result",
          "data": {
            "text/plain": [
              "0"
            ]
          },
          "metadata": {},
          "execution_count": 28
        }
      ]
    },
    {
      "cell_type": "code",
      "source": [
        "data.N_BATHROOM.isnull().sum()"
      ],
      "metadata": {
        "colab": {
          "base_uri": "https://localhost:8080/"
        },
        "id": "U5basUOa-cBc",
        "outputId": "6a1c6262-0a5a-4cdb-fee6-46ec1d69b271"
      },
      "execution_count": 29,
      "outputs": [
        {
          "output_type": "execute_result",
          "data": {
            "text/plain": [
              "5"
            ]
          },
          "metadata": {},
          "execution_count": 29
        }
      ]
    },
    {
      "cell_type": "code",
      "source": [
        "data['N_BATHROOM'] = data.N_BATHROOM.fillna(data['N_BATHROOM'].mode()[0])"
      ],
      "metadata": {
        "id": "vn3T17Tz-sf-"
      },
      "execution_count": 30,
      "outputs": []
    },
    {
      "cell_type": "code",
      "source": [
        "data.info()"
      ],
      "metadata": {
        "colab": {
          "base_uri": "https://localhost:8080/"
        },
        "id": "mSSiTslX_DAW",
        "outputId": "367749fd-a38c-4b74-e99a-75fad8a30839"
      },
      "execution_count": 31,
      "outputs": [
        {
          "output_type": "stream",
          "name": "stdout",
          "text": [
            "<class 'pandas.core.frame.DataFrame'>\n",
            "RangeIndex: 7109 entries, 0 to 7108\n",
            "Data columns (total 18 columns):\n",
            " #   Column         Non-Null Count  Dtype  \n",
            "---  ------         --------------  -----  \n",
            " 0   AREA           7109 non-null   object \n",
            " 1   INT_SQFT       7109 non-null   int64  \n",
            " 2   DIST_MAINROAD  7109 non-null   int64  \n",
            " 3   N_BEDROOM      7109 non-null   float64\n",
            " 4   N_BATHROOM     7109 non-null   float64\n",
            " 5   N_ROOM         7109 non-null   int64  \n",
            " 6   SALE_COND      7109 non-null   object \n",
            " 7   PARK_FACIL     7109 non-null   object \n",
            " 8   BUILDTYPE      7109 non-null   object \n",
            " 9   UTILITY_AVAIL  7109 non-null   object \n",
            " 10  STREET         7109 non-null   object \n",
            " 11  MZZONE         7109 non-null   object \n",
            " 12  QS_ROOMS       7109 non-null   float64\n",
            " 13  QS_BATHROOM    7109 non-null   float64\n",
            " 14  QS_BEDROOM     7109 non-null   float64\n",
            " 15  QS_OVERALL     7061 non-null   float64\n",
            " 16  SALES_PRICE    7109 non-null   int64  \n",
            " 17  AGE            7109 non-null   int64  \n",
            "dtypes: float64(6), int64(5), object(7)\n",
            "memory usage: 999.8+ KB\n"
          ]
        }
      ]
    },
    {
      "cell_type": "code",
      "source": [
        "data.N_ROOM.isnull().sum()"
      ],
      "metadata": {
        "id": "OBV-mhkd_Q8o",
        "colab": {
          "base_uri": "https://localhost:8080/"
        },
        "outputId": "16bcd08a-cb69-4099-90c0-32b7d9b1c4a1"
      },
      "execution_count": 32,
      "outputs": [
        {
          "output_type": "execute_result",
          "data": {
            "text/plain": [
              "0"
            ]
          },
          "metadata": {},
          "execution_count": 32
        }
      ]
    },
    {
      "cell_type": "code",
      "source": [
        "data.N_ROOM = data.N_ROOM.astype('int64')"
      ],
      "metadata": {
        "id": "mkqtAoa3bkZK"
      },
      "execution_count": 33,
      "outputs": []
    },
    {
      "cell_type": "code",
      "source": [
        "data.N_ROOM.describe()"
      ],
      "metadata": {
        "colab": {
          "base_uri": "https://localhost:8080/"
        },
        "id": "_C2NAuqNbxhV",
        "outputId": "fb7d87ba-d9fa-461f-e4f4-34682deee6f4"
      },
      "execution_count": 34,
      "outputs": [
        {
          "output_type": "execute_result",
          "data": {
            "text/plain": [
              "count    7109.000000\n",
              "mean        3.688704\n",
              "std         1.019099\n",
              "min         2.000000\n",
              "25%         3.000000\n",
              "50%         4.000000\n",
              "75%         4.000000\n",
              "max         6.000000\n",
              "Name: N_ROOM, dtype: float64"
            ]
          },
          "metadata": {},
          "execution_count": 34
        }
      ]
    },
    {
      "cell_type": "code",
      "source": [
        "data.SALE_COND.isnull().sum()"
      ],
      "metadata": {
        "colab": {
          "base_uri": "https://localhost:8080/"
        },
        "id": "0HOpCn76b3qj",
        "outputId": "d7c24bc1-f950-4104-c4c7-abd7e5f7fa1c"
      },
      "execution_count": 35,
      "outputs": [
        {
          "output_type": "execute_result",
          "data": {
            "text/plain": [
              "0"
            ]
          },
          "metadata": {},
          "execution_count": 35
        }
      ]
    },
    {
      "cell_type": "code",
      "source": [
        "data.SALE_COND.unique()"
      ],
      "metadata": {
        "colab": {
          "base_uri": "https://localhost:8080/"
        },
        "id": "Fn-dTBd8b9py",
        "outputId": "5a97f473-afc5-446a-dee0-4899667fdcfb"
      },
      "execution_count": 36,
      "outputs": [
        {
          "output_type": "execute_result",
          "data": {
            "text/plain": [
              "array(['AbNormal', 'Family', 'Partial', 'AdjLand', 'Normal Sale',\n",
              "       'Ab Normal', 'Partiall', 'Adj Land', 'PartiaLl'], dtype=object)"
            ]
          },
          "metadata": {},
          "execution_count": 36
        }
      ]
    },
    {
      "cell_type": "code",
      "source": [
        "data.SALE_COND.replace('AbNormal','Abnormal', inplace=True)\n",
        "data.SALE_COND.replace('Ab Normal','Abnormal', inplace=True)\n",
        "data.SALE_COND.replace('AdjLand','Adj Land', inplace=True)\n",
        "data.SALE_COND.replace('Partiall','Partial', inplace=True)\n",
        "data.SALE_COND.replace('PartiaLl','Partial', inplace=True)"
      ],
      "metadata": {
        "id": "TNHNeR6qcEAu"
      },
      "execution_count": 37,
      "outputs": []
    },
    {
      "cell_type": "code",
      "source": [
        "data.PARK_FACIL.unique()"
      ],
      "metadata": {
        "colab": {
          "base_uri": "https://localhost:8080/"
        },
        "id": "TSwPDSoYc_Qc",
        "outputId": "8794158c-27a0-47a6-d2e6-a409507acdbc"
      },
      "execution_count": 38,
      "outputs": [
        {
          "output_type": "execute_result",
          "data": {
            "text/plain": [
              "array(['Yes', 'No', 'Noo'], dtype=object)"
            ]
          },
          "metadata": {},
          "execution_count": 38
        }
      ]
    },
    {
      "cell_type": "code",
      "source": [
        "data.PARK_FACIL.replace('Noo','No', inplace=True)\n",
        "data.PARK_FACIL.isnull().sum()"
      ],
      "metadata": {
        "colab": {
          "base_uri": "https://localhost:8080/"
        },
        "id": "SQZscwjkdLP5",
        "outputId": "f598f294-6f79-4f19-bc29-5dbbef5bac2c"
      },
      "execution_count": 39,
      "outputs": [
        {
          "output_type": "execute_result",
          "data": {
            "text/plain": [
              "0"
            ]
          },
          "metadata": {},
          "execution_count": 39
        }
      ]
    },
    {
      "cell_type": "code",
      "source": [
        "data.BUILDTYPE.isnull().sum()"
      ],
      "metadata": {
        "colab": {
          "base_uri": "https://localhost:8080/"
        },
        "id": "K5llI3g8dlh2",
        "outputId": "64856571-bea3-448e-c157-0c48428e83ba"
      },
      "execution_count": 40,
      "outputs": [
        {
          "output_type": "execute_result",
          "data": {
            "text/plain": [
              "0"
            ]
          },
          "metadata": {},
          "execution_count": 40
        }
      ]
    },
    {
      "cell_type": "code",
      "source": [
        "data.BUILDTYPE.unique()"
      ],
      "metadata": {
        "colab": {
          "base_uri": "https://localhost:8080/"
        },
        "id": "LiwqNfLUdrNx",
        "outputId": "5f584803-8eb7-47dd-d2c1-b33420a94c1d"
      },
      "execution_count": 41,
      "outputs": [
        {
          "output_type": "execute_result",
          "data": {
            "text/plain": [
              "array(['Commercial', 'Others', 'Other', 'House', 'Comercial'],\n",
              "      dtype=object)"
            ]
          },
          "metadata": {},
          "execution_count": 41
        }
      ]
    },
    {
      "cell_type": "code",
      "source": [
        "data.BUILDTYPE.replace('Comercial','Commercial', inplace=True)\n",
        "data.BUILDTYPE.replace('Others','Other', inplace=True)"
      ],
      "metadata": {
        "id": "cIC_Y7pid_iC"
      },
      "execution_count": 42,
      "outputs": []
    },
    {
      "cell_type": "code",
      "source": [
        "data.UTILITY_AVAIL.isnull().sum()"
      ],
      "metadata": {
        "colab": {
          "base_uri": "https://localhost:8080/"
        },
        "id": "WmBNis6KeRfF",
        "outputId": "bc5ce81f-66cd-478e-c2fb-33813f49c5ac"
      },
      "execution_count": 43,
      "outputs": [
        {
          "output_type": "execute_result",
          "data": {
            "text/plain": [
              "0"
            ]
          },
          "metadata": {},
          "execution_count": 43
        }
      ]
    },
    {
      "cell_type": "code",
      "source": [
        "data.UTILITY_AVAIL.unique()"
      ],
      "metadata": {
        "colab": {
          "base_uri": "https://localhost:8080/"
        },
        "id": "PgEbHZ_HedEE",
        "outputId": "891eb802-eb94-4595-af6a-f8c826647a0a"
      },
      "execution_count": 44,
      "outputs": [
        {
          "output_type": "execute_result",
          "data": {
            "text/plain": [
              "array(['AllPub', 'ELO', 'NoSewr ', 'NoSeWa', 'All Pub'], dtype=object)"
            ]
          },
          "metadata": {},
          "execution_count": 44
        }
      ]
    },
    {
      "cell_type": "code",
      "source": [
        "data.UTILITY_AVAIL.replace('AllPub','All Pub', inplace=True)"
      ],
      "metadata": {
        "id": "7PCEjR1uerdz"
      },
      "execution_count": 45,
      "outputs": []
    },
    {
      "cell_type": "code",
      "source": [
        "data.UTILITY_AVAIL.unique()"
      ],
      "metadata": {
        "colab": {
          "base_uri": "https://localhost:8080/"
        },
        "id": "IRbGkoIJPmpw",
        "outputId": "efd7f30e-3a87-4274-e6c2-8229ec6d264d"
      },
      "execution_count": 46,
      "outputs": [
        {
          "output_type": "execute_result",
          "data": {
            "text/plain": [
              "array(['All Pub', 'ELO', 'NoSewr ', 'NoSeWa'], dtype=object)"
            ]
          },
          "metadata": {},
          "execution_count": 46
        }
      ]
    },
    {
      "cell_type": "code",
      "source": [
        "data.info()"
      ],
      "metadata": {
        "colab": {
          "base_uri": "https://localhost:8080/"
        },
        "id": "LATGr04mReTX",
        "outputId": "98593771-edbf-4a8d-962f-3cc22dfd18a2"
      },
      "execution_count": 47,
      "outputs": [
        {
          "output_type": "stream",
          "name": "stdout",
          "text": [
            "<class 'pandas.core.frame.DataFrame'>\n",
            "RangeIndex: 7109 entries, 0 to 7108\n",
            "Data columns (total 18 columns):\n",
            " #   Column         Non-Null Count  Dtype  \n",
            "---  ------         --------------  -----  \n",
            " 0   AREA           7109 non-null   object \n",
            " 1   INT_SQFT       7109 non-null   int64  \n",
            " 2   DIST_MAINROAD  7109 non-null   int64  \n",
            " 3   N_BEDROOM      7109 non-null   float64\n",
            " 4   N_BATHROOM     7109 non-null   float64\n",
            " 5   N_ROOM         7109 non-null   int64  \n",
            " 6   SALE_COND      7109 non-null   object \n",
            " 7   PARK_FACIL     7109 non-null   object \n",
            " 8   BUILDTYPE      7109 non-null   object \n",
            " 9   UTILITY_AVAIL  7109 non-null   object \n",
            " 10  STREET         7109 non-null   object \n",
            " 11  MZZONE         7109 non-null   object \n",
            " 12  QS_ROOMS       7109 non-null   float64\n",
            " 13  QS_BATHROOM    7109 non-null   float64\n",
            " 14  QS_BEDROOM     7109 non-null   float64\n",
            " 15  QS_OVERALL     7061 non-null   float64\n",
            " 16  SALES_PRICE    7109 non-null   int64  \n",
            " 17  AGE            7109 non-null   int64  \n",
            "dtypes: float64(6), int64(5), object(7)\n",
            "memory usage: 999.8+ KB\n"
          ]
        }
      ]
    },
    {
      "cell_type": "code",
      "source": [
        "data.STREET.isnull().sum()"
      ],
      "metadata": {
        "colab": {
          "base_uri": "https://localhost:8080/"
        },
        "id": "H9FlWYKZeiAu",
        "outputId": "ce6afb53-6d4e-4668-cc0b-d60044527b1a"
      },
      "execution_count": 48,
      "outputs": [
        {
          "output_type": "execute_result",
          "data": {
            "text/plain": [
              "0"
            ]
          },
          "metadata": {},
          "execution_count": 48
        }
      ]
    },
    {
      "cell_type": "code",
      "source": [
        "data.STREET.unique()"
      ],
      "metadata": {
        "colab": {
          "base_uri": "https://localhost:8080/"
        },
        "id": "HavWuKmHeoI4",
        "outputId": "0e1399b0-390e-42fc-fcc7-301294ee3bd5"
      },
      "execution_count": 49,
      "outputs": [
        {
          "output_type": "execute_result",
          "data": {
            "text/plain": [
              "array(['Paved', 'Gravel', 'No Access', 'Pavd', 'NoAccess'], dtype=object)"
            ]
          },
          "metadata": {},
          "execution_count": 49
        }
      ]
    },
    {
      "cell_type": "code",
      "source": [
        "data.STREET.replace('Pavd','Paved', inplace=True)\n",
        "data.STREET.replace('NoAccess','No Access', inplace=True)\n"
      ],
      "metadata": {
        "id": "w07b71FrfCEh"
      },
      "execution_count": 50,
      "outputs": []
    },
    {
      "cell_type": "code",
      "source": [
        "data.MZZONE.isnull().sum()"
      ],
      "metadata": {
        "colab": {
          "base_uri": "https://localhost:8080/"
        },
        "id": "NL5V_A9zfMRU",
        "outputId": "4486b6d9-6744-47c6-eb3e-7d0f03eb31ac"
      },
      "execution_count": 51,
      "outputs": [
        {
          "output_type": "execute_result",
          "data": {
            "text/plain": [
              "0"
            ]
          },
          "metadata": {},
          "execution_count": 51
        }
      ]
    },
    {
      "cell_type": "code",
      "source": [
        "data.MZZONE.unique()"
      ],
      "metadata": {
        "colab": {
          "base_uri": "https://localhost:8080/"
        },
        "id": "zvOXIUduff-f",
        "outputId": "292eddf5-a810-46ef-bd14-0d06f07f1ae6"
      },
      "execution_count": 52,
      "outputs": [
        {
          "output_type": "execute_result",
          "data": {
            "text/plain": [
              "array(['A', 'RH', 'RL', 'I', 'C', 'RM'], dtype=object)"
            ]
          },
          "metadata": {},
          "execution_count": 52
        }
      ]
    },
    {
      "cell_type": "code",
      "source": [
        "data.SALES_PRICE.isnull().sum()"
      ],
      "metadata": {
        "colab": {
          "base_uri": "https://localhost:8080/"
        },
        "id": "K2PCKhcpfjoC",
        "outputId": "771ec2f5-1bda-4b9f-c198-b72524b44f3c"
      },
      "execution_count": 53,
      "outputs": [
        {
          "output_type": "execute_result",
          "data": {
            "text/plain": [
              "0"
            ]
          },
          "metadata": {},
          "execution_count": 53
        }
      ]
    },
    {
      "cell_type": "code",
      "source": [
        "data.SALES_PRICE.describe()"
      ],
      "metadata": {
        "colab": {
          "base_uri": "https://localhost:8080/"
        },
        "id": "MF6AZOOPfqcE",
        "outputId": "5cca5ba7-1360-4de0-a333-b411a3bc8dc1"
      },
      "execution_count": 54,
      "outputs": [
        {
          "output_type": "execute_result",
          "data": {
            "text/plain": [
              "count    7.109000e+03\n",
              "mean     1.089491e+07\n",
              "std      3.768603e+06\n",
              "min      2.156875e+06\n",
              "25%      8.272100e+06\n",
              "50%      1.033505e+07\n",
              "75%      1.299390e+07\n",
              "max      2.366734e+07\n",
              "Name: SALES_PRICE, dtype: float64"
            ]
          },
          "metadata": {},
          "execution_count": 54
        }
      ]
    },
    {
      "cell_type": "code",
      "source": [
        "data.QS_BATHROOM.isnull().sum()"
      ],
      "metadata": {
        "colab": {
          "base_uri": "https://localhost:8080/"
        },
        "id": "KelRxvYnEDYi",
        "outputId": "242e7d1c-b034-4f89-be2d-d55909a444a8"
      },
      "execution_count": 55,
      "outputs": [
        {
          "output_type": "execute_result",
          "data": {
            "text/plain": [
              "0"
            ]
          },
          "metadata": {},
          "execution_count": 55
        }
      ]
    },
    {
      "cell_type": "code",
      "source": [
        "data.QS_BEDROOM.isnull().sum()"
      ],
      "metadata": {
        "colab": {
          "base_uri": "https://localhost:8080/"
        },
        "id": "AMIncflRE7IL",
        "outputId": "32b2c63f-3953-4295-d7a3-ab83e448cce8"
      },
      "execution_count": 56,
      "outputs": [
        {
          "output_type": "execute_result",
          "data": {
            "text/plain": [
              "0"
            ]
          },
          "metadata": {},
          "execution_count": 56
        }
      ]
    },
    {
      "cell_type": "code",
      "source": [
        "data.QS_ROOMS.isnull().sum()"
      ],
      "metadata": {
        "colab": {
          "base_uri": "https://localhost:8080/"
        },
        "id": "4xSQKO56FAlz",
        "outputId": "5ba73505-db2d-457b-91da-77d38a8071b9"
      },
      "execution_count": 57,
      "outputs": [
        {
          "output_type": "execute_result",
          "data": {
            "text/plain": [
              "0"
            ]
          },
          "metadata": {},
          "execution_count": 57
        }
      ]
    },
    {
      "cell_type": "code",
      "source": [
        "data.QS_OVERALL.isnull().sum()"
      ],
      "metadata": {
        "colab": {
          "base_uri": "https://localhost:8080/"
        },
        "id": "YGvHsLUzFEkm",
        "outputId": "06e46c03-d3e7-4ef8-ad06-08a15011ae7b"
      },
      "execution_count": 58,
      "outputs": [
        {
          "output_type": "execute_result",
          "data": {
            "text/plain": [
              "48"
            ]
          },
          "metadata": {},
          "execution_count": 58
        }
      ]
    },
    {
      "cell_type": "code",
      "source": [
        "data['QS_OVERALL'] = data.QS_OVERALL.fillna('mean')"
      ],
      "metadata": {
        "id": "dgBO9bAbFHdE"
      },
      "execution_count": 59,
      "outputs": []
    },
    {
      "cell_type": "code",
      "source": [
        "data.head()"
      ],
      "metadata": {
        "colab": {
          "base_uri": "https://localhost:8080/",
          "height": 206
        },
        "id": "fHTWGK5XFSzC",
        "outputId": "f6b9326b-62e3-457a-fbba-b0fc61220c80"
      },
      "execution_count": 60,
      "outputs": [
        {
          "output_type": "execute_result",
          "data": {
            "text/plain": [
              "         AREA  INT_SQFT  DIST_MAINROAD  N_BEDROOM  N_BATHROOM  N_ROOM  \\\n",
              "0  Karapakkam      1004            131        1.0         1.0       3   \n",
              "1  Anna Nagar      1986             26        2.0         1.0       5   \n",
              "2       Adyar       909             70        1.0         1.0       3   \n",
              "3   Velachery      1855             14        3.0         2.0       5   \n",
              "4  Karapakkam      1226             84        1.0         1.0       3   \n",
              "\n",
              "  SALE_COND PARK_FACIL   BUILDTYPE UTILITY_AVAIL  STREET MZZONE  QS_ROOMS  \\\n",
              "0  Abnormal        Yes  Commercial       All Pub   Paved      A       4.0   \n",
              "1  Abnormal         No  Commercial       All Pub  Gravel     RH       4.9   \n",
              "2  Abnormal        Yes  Commercial           ELO  Gravel     RL       4.1   \n",
              "3    Family         No       Other       NoSewr    Paved      I       4.7   \n",
              "4  Abnormal        Yes       Other       All Pub  Gravel      C       3.0   \n",
              "\n",
              "   QS_BATHROOM  QS_BEDROOM QS_OVERALL  SALES_PRICE  AGE  \n",
              "0          3.9         4.9       4.33      7600000   44  \n",
              "1          4.2         2.5      3.765     21717770   11  \n",
              "2          3.8         2.2       3.09     13159200   20  \n",
              "3          3.9         3.6       4.01      9630290   22  \n",
              "4          2.5         4.1       3.29      7406250   30  "
            ],
            "text/html": [
              "\n",
              "  <div id=\"df-bc7fda60-6114-4dd8-8f95-a958af855ead\">\n",
              "    <div class=\"colab-df-container\">\n",
              "      <div>\n",
              "<style scoped>\n",
              "    .dataframe tbody tr th:only-of-type {\n",
              "        vertical-align: middle;\n",
              "    }\n",
              "\n",
              "    .dataframe tbody tr th {\n",
              "        vertical-align: top;\n",
              "    }\n",
              "\n",
              "    .dataframe thead th {\n",
              "        text-align: right;\n",
              "    }\n",
              "</style>\n",
              "<table border=\"1\" class=\"dataframe\">\n",
              "  <thead>\n",
              "    <tr style=\"text-align: right;\">\n",
              "      <th></th>\n",
              "      <th>AREA</th>\n",
              "      <th>INT_SQFT</th>\n",
              "      <th>DIST_MAINROAD</th>\n",
              "      <th>N_BEDROOM</th>\n",
              "      <th>N_BATHROOM</th>\n",
              "      <th>N_ROOM</th>\n",
              "      <th>SALE_COND</th>\n",
              "      <th>PARK_FACIL</th>\n",
              "      <th>BUILDTYPE</th>\n",
              "      <th>UTILITY_AVAIL</th>\n",
              "      <th>STREET</th>\n",
              "      <th>MZZONE</th>\n",
              "      <th>QS_ROOMS</th>\n",
              "      <th>QS_BATHROOM</th>\n",
              "      <th>QS_BEDROOM</th>\n",
              "      <th>QS_OVERALL</th>\n",
              "      <th>SALES_PRICE</th>\n",
              "      <th>AGE</th>\n",
              "    </tr>\n",
              "  </thead>\n",
              "  <tbody>\n",
              "    <tr>\n",
              "      <th>0</th>\n",
              "      <td>Karapakkam</td>\n",
              "      <td>1004</td>\n",
              "      <td>131</td>\n",
              "      <td>1.0</td>\n",
              "      <td>1.0</td>\n",
              "      <td>3</td>\n",
              "      <td>Abnormal</td>\n",
              "      <td>Yes</td>\n",
              "      <td>Commercial</td>\n",
              "      <td>All Pub</td>\n",
              "      <td>Paved</td>\n",
              "      <td>A</td>\n",
              "      <td>4.0</td>\n",
              "      <td>3.9</td>\n",
              "      <td>4.9</td>\n",
              "      <td>4.33</td>\n",
              "      <td>7600000</td>\n",
              "      <td>44</td>\n",
              "    </tr>\n",
              "    <tr>\n",
              "      <th>1</th>\n",
              "      <td>Anna Nagar</td>\n",
              "      <td>1986</td>\n",
              "      <td>26</td>\n",
              "      <td>2.0</td>\n",
              "      <td>1.0</td>\n",
              "      <td>5</td>\n",
              "      <td>Abnormal</td>\n",
              "      <td>No</td>\n",
              "      <td>Commercial</td>\n",
              "      <td>All Pub</td>\n",
              "      <td>Gravel</td>\n",
              "      <td>RH</td>\n",
              "      <td>4.9</td>\n",
              "      <td>4.2</td>\n",
              "      <td>2.5</td>\n",
              "      <td>3.765</td>\n",
              "      <td>21717770</td>\n",
              "      <td>11</td>\n",
              "    </tr>\n",
              "    <tr>\n",
              "      <th>2</th>\n",
              "      <td>Adyar</td>\n",
              "      <td>909</td>\n",
              "      <td>70</td>\n",
              "      <td>1.0</td>\n",
              "      <td>1.0</td>\n",
              "      <td>3</td>\n",
              "      <td>Abnormal</td>\n",
              "      <td>Yes</td>\n",
              "      <td>Commercial</td>\n",
              "      <td>ELO</td>\n",
              "      <td>Gravel</td>\n",
              "      <td>RL</td>\n",
              "      <td>4.1</td>\n",
              "      <td>3.8</td>\n",
              "      <td>2.2</td>\n",
              "      <td>3.09</td>\n",
              "      <td>13159200</td>\n",
              "      <td>20</td>\n",
              "    </tr>\n",
              "    <tr>\n",
              "      <th>3</th>\n",
              "      <td>Velachery</td>\n",
              "      <td>1855</td>\n",
              "      <td>14</td>\n",
              "      <td>3.0</td>\n",
              "      <td>2.0</td>\n",
              "      <td>5</td>\n",
              "      <td>Family</td>\n",
              "      <td>No</td>\n",
              "      <td>Other</td>\n",
              "      <td>NoSewr</td>\n",
              "      <td>Paved</td>\n",
              "      <td>I</td>\n",
              "      <td>4.7</td>\n",
              "      <td>3.9</td>\n",
              "      <td>3.6</td>\n",
              "      <td>4.01</td>\n",
              "      <td>9630290</td>\n",
              "      <td>22</td>\n",
              "    </tr>\n",
              "    <tr>\n",
              "      <th>4</th>\n",
              "      <td>Karapakkam</td>\n",
              "      <td>1226</td>\n",
              "      <td>84</td>\n",
              "      <td>1.0</td>\n",
              "      <td>1.0</td>\n",
              "      <td>3</td>\n",
              "      <td>Abnormal</td>\n",
              "      <td>Yes</td>\n",
              "      <td>Other</td>\n",
              "      <td>All Pub</td>\n",
              "      <td>Gravel</td>\n",
              "      <td>C</td>\n",
              "      <td>3.0</td>\n",
              "      <td>2.5</td>\n",
              "      <td>4.1</td>\n",
              "      <td>3.29</td>\n",
              "      <td>7406250</td>\n",
              "      <td>30</td>\n",
              "    </tr>\n",
              "  </tbody>\n",
              "</table>\n",
              "</div>\n",
              "      <button class=\"colab-df-convert\" onclick=\"convertToInteractive('df-bc7fda60-6114-4dd8-8f95-a958af855ead')\"\n",
              "              title=\"Convert this dataframe to an interactive table.\"\n",
              "              style=\"display:none;\">\n",
              "        \n",
              "  <svg xmlns=\"http://www.w3.org/2000/svg\" height=\"24px\"viewBox=\"0 0 24 24\"\n",
              "       width=\"24px\">\n",
              "    <path d=\"M0 0h24v24H0V0z\" fill=\"none\"/>\n",
              "    <path d=\"M18.56 5.44l.94 2.06.94-2.06 2.06-.94-2.06-.94-.94-2.06-.94 2.06-2.06.94zm-11 1L8.5 8.5l.94-2.06 2.06-.94-2.06-.94L8.5 2.5l-.94 2.06-2.06.94zm10 10l.94 2.06.94-2.06 2.06-.94-2.06-.94-.94-2.06-.94 2.06-2.06.94z\"/><path d=\"M17.41 7.96l-1.37-1.37c-.4-.4-.92-.59-1.43-.59-.52 0-1.04.2-1.43.59L10.3 9.45l-7.72 7.72c-.78.78-.78 2.05 0 2.83L4 21.41c.39.39.9.59 1.41.59.51 0 1.02-.2 1.41-.59l7.78-7.78 2.81-2.81c.8-.78.8-2.07 0-2.86zM5.41 20L4 18.59l7.72-7.72 1.47 1.35L5.41 20z\"/>\n",
              "  </svg>\n",
              "      </button>\n",
              "      \n",
              "  <style>\n",
              "    .colab-df-container {\n",
              "      display:flex;\n",
              "      flex-wrap:wrap;\n",
              "      gap: 12px;\n",
              "    }\n",
              "\n",
              "    .colab-df-convert {\n",
              "      background-color: #E8F0FE;\n",
              "      border: none;\n",
              "      border-radius: 50%;\n",
              "      cursor: pointer;\n",
              "      display: none;\n",
              "      fill: #1967D2;\n",
              "      height: 32px;\n",
              "      padding: 0 0 0 0;\n",
              "      width: 32px;\n",
              "    }\n",
              "\n",
              "    .colab-df-convert:hover {\n",
              "      background-color: #E2EBFA;\n",
              "      box-shadow: 0px 1px 2px rgba(60, 64, 67, 0.3), 0px 1px 3px 1px rgba(60, 64, 67, 0.15);\n",
              "      fill: #174EA6;\n",
              "    }\n",
              "\n",
              "    [theme=dark] .colab-df-convert {\n",
              "      background-color: #3B4455;\n",
              "      fill: #D2E3FC;\n",
              "    }\n",
              "\n",
              "    [theme=dark] .colab-df-convert:hover {\n",
              "      background-color: #434B5C;\n",
              "      box-shadow: 0px 1px 3px 1px rgba(0, 0, 0, 0.15);\n",
              "      filter: drop-shadow(0px 1px 2px rgba(0, 0, 0, 0.3));\n",
              "      fill: #FFFFFF;\n",
              "    }\n",
              "  </style>\n",
              "\n",
              "      <script>\n",
              "        const buttonEl =\n",
              "          document.querySelector('#df-bc7fda60-6114-4dd8-8f95-a958af855ead button.colab-df-convert');\n",
              "        buttonEl.style.display =\n",
              "          google.colab.kernel.accessAllowed ? 'block' : 'none';\n",
              "\n",
              "        async function convertToInteractive(key) {\n",
              "          const element = document.querySelector('#df-bc7fda60-6114-4dd8-8f95-a958af855ead');\n",
              "          const dataTable =\n",
              "            await google.colab.kernel.invokeFunction('convertToInteractive',\n",
              "                                                     [key], {});\n",
              "          if (!dataTable) return;\n",
              "\n",
              "          const docLinkHtml = 'Like what you see? Visit the ' +\n",
              "            '<a target=\"_blank\" href=https://colab.research.google.com/notebooks/data_table.ipynb>data table notebook</a>'\n",
              "            + ' to learn more about interactive tables.';\n",
              "          element.innerHTML = '';\n",
              "          dataTable['output_type'] = 'display_data';\n",
              "          await google.colab.output.renderOutput(dataTable, element);\n",
              "          const docLink = document.createElement('div');\n",
              "          docLink.innerHTML = docLinkHtml;\n",
              "          element.appendChild(docLink);\n",
              "        }\n",
              "      </script>\n",
              "    </div>\n",
              "  </div>\n",
              "  "
            ]
          },
          "metadata": {},
          "execution_count": 60
        }
      ]
    },
    {
      "cell_type": "markdown",
      "source": [
        "data visualisation"
      ],
      "metadata": {
        "id": "678qRms9FX-n"
      }
    },
    {
      "cell_type": "code",
      "source": [
        "numeric_data = data.select_dtypes(include=[np.number])\n",
        "categorical_data = data.select_dtypes(exclude=[np.number])\n"
      ],
      "metadata": {
        "id": "T2QJFw6sFXiv"
      },
      "execution_count": 61,
      "outputs": []
    },
    {
      "cell_type": "code",
      "source": [
        "numeric_data"
      ],
      "metadata": {
        "colab": {
          "base_uri": "https://localhost:8080/",
          "height": 423
        },
        "id": "Grbyo9GaFsEg",
        "outputId": "491c6d0d-bb1c-4a4a-d684-40c76a8b76d0"
      },
      "execution_count": 62,
      "outputs": [
        {
          "output_type": "execute_result",
          "data": {
            "text/plain": [
              "      INT_SQFT  DIST_MAINROAD  N_BEDROOM  N_BATHROOM  N_ROOM  QS_ROOMS  \\\n",
              "0         1004            131        1.0         1.0       3       4.0   \n",
              "1         1986             26        2.0         1.0       5       4.9   \n",
              "2          909             70        1.0         1.0       3       4.1   \n",
              "3         1855             14        3.0         2.0       5       4.7   \n",
              "4         1226             84        1.0         1.0       3       3.0   \n",
              "...        ...            ...        ...         ...     ...       ...   \n",
              "7104       598             51        1.0         1.0       2       3.0   \n",
              "7105      1897             52        3.0         2.0       5       3.6   \n",
              "7106      1614            152        2.0         1.0       4       4.3   \n",
              "7107       787             40        1.0         1.0       2       4.6   \n",
              "7108      1896            156        3.0         2.0       5       3.1   \n",
              "\n",
              "      QS_BATHROOM  QS_BEDROOM  SALES_PRICE  AGE  \n",
              "0             3.9         4.9      7600000   44  \n",
              "1             4.2         2.5     21717770   11  \n",
              "2             3.8         2.2     13159200   20  \n",
              "3             3.9         3.6      9630290   22  \n",
              "4             2.5         4.1      7406250   30  \n",
              "...           ...         ...          ...  ...  \n",
              "7104          2.2         2.4      5353000   49  \n",
              "7105          4.5         3.3     10818480    9  \n",
              "7106          4.2         2.9      8351410   28  \n",
              "7107          3.8         4.1      8507000   32  \n",
              "7108          3.5         4.3      9976480   44  \n",
              "\n",
              "[7109 rows x 10 columns]"
            ],
            "text/html": [
              "\n",
              "  <div id=\"df-7aa56843-0674-4546-a386-666ac46caba0\">\n",
              "    <div class=\"colab-df-container\">\n",
              "      <div>\n",
              "<style scoped>\n",
              "    .dataframe tbody tr th:only-of-type {\n",
              "        vertical-align: middle;\n",
              "    }\n",
              "\n",
              "    .dataframe tbody tr th {\n",
              "        vertical-align: top;\n",
              "    }\n",
              "\n",
              "    .dataframe thead th {\n",
              "        text-align: right;\n",
              "    }\n",
              "</style>\n",
              "<table border=\"1\" class=\"dataframe\">\n",
              "  <thead>\n",
              "    <tr style=\"text-align: right;\">\n",
              "      <th></th>\n",
              "      <th>INT_SQFT</th>\n",
              "      <th>DIST_MAINROAD</th>\n",
              "      <th>N_BEDROOM</th>\n",
              "      <th>N_BATHROOM</th>\n",
              "      <th>N_ROOM</th>\n",
              "      <th>QS_ROOMS</th>\n",
              "      <th>QS_BATHROOM</th>\n",
              "      <th>QS_BEDROOM</th>\n",
              "      <th>SALES_PRICE</th>\n",
              "      <th>AGE</th>\n",
              "    </tr>\n",
              "  </thead>\n",
              "  <tbody>\n",
              "    <tr>\n",
              "      <th>0</th>\n",
              "      <td>1004</td>\n",
              "      <td>131</td>\n",
              "      <td>1.0</td>\n",
              "      <td>1.0</td>\n",
              "      <td>3</td>\n",
              "      <td>4.0</td>\n",
              "      <td>3.9</td>\n",
              "      <td>4.9</td>\n",
              "      <td>7600000</td>\n",
              "      <td>44</td>\n",
              "    </tr>\n",
              "    <tr>\n",
              "      <th>1</th>\n",
              "      <td>1986</td>\n",
              "      <td>26</td>\n",
              "      <td>2.0</td>\n",
              "      <td>1.0</td>\n",
              "      <td>5</td>\n",
              "      <td>4.9</td>\n",
              "      <td>4.2</td>\n",
              "      <td>2.5</td>\n",
              "      <td>21717770</td>\n",
              "      <td>11</td>\n",
              "    </tr>\n",
              "    <tr>\n",
              "      <th>2</th>\n",
              "      <td>909</td>\n",
              "      <td>70</td>\n",
              "      <td>1.0</td>\n",
              "      <td>1.0</td>\n",
              "      <td>3</td>\n",
              "      <td>4.1</td>\n",
              "      <td>3.8</td>\n",
              "      <td>2.2</td>\n",
              "      <td>13159200</td>\n",
              "      <td>20</td>\n",
              "    </tr>\n",
              "    <tr>\n",
              "      <th>3</th>\n",
              "      <td>1855</td>\n",
              "      <td>14</td>\n",
              "      <td>3.0</td>\n",
              "      <td>2.0</td>\n",
              "      <td>5</td>\n",
              "      <td>4.7</td>\n",
              "      <td>3.9</td>\n",
              "      <td>3.6</td>\n",
              "      <td>9630290</td>\n",
              "      <td>22</td>\n",
              "    </tr>\n",
              "    <tr>\n",
              "      <th>4</th>\n",
              "      <td>1226</td>\n",
              "      <td>84</td>\n",
              "      <td>1.0</td>\n",
              "      <td>1.0</td>\n",
              "      <td>3</td>\n",
              "      <td>3.0</td>\n",
              "      <td>2.5</td>\n",
              "      <td>4.1</td>\n",
              "      <td>7406250</td>\n",
              "      <td>30</td>\n",
              "    </tr>\n",
              "    <tr>\n",
              "      <th>...</th>\n",
              "      <td>...</td>\n",
              "      <td>...</td>\n",
              "      <td>...</td>\n",
              "      <td>...</td>\n",
              "      <td>...</td>\n",
              "      <td>...</td>\n",
              "      <td>...</td>\n",
              "      <td>...</td>\n",
              "      <td>...</td>\n",
              "      <td>...</td>\n",
              "    </tr>\n",
              "    <tr>\n",
              "      <th>7104</th>\n",
              "      <td>598</td>\n",
              "      <td>51</td>\n",
              "      <td>1.0</td>\n",
              "      <td>1.0</td>\n",
              "      <td>2</td>\n",
              "      <td>3.0</td>\n",
              "      <td>2.2</td>\n",
              "      <td>2.4</td>\n",
              "      <td>5353000</td>\n",
              "      <td>49</td>\n",
              "    </tr>\n",
              "    <tr>\n",
              "      <th>7105</th>\n",
              "      <td>1897</td>\n",
              "      <td>52</td>\n",
              "      <td>3.0</td>\n",
              "      <td>2.0</td>\n",
              "      <td>5</td>\n",
              "      <td>3.6</td>\n",
              "      <td>4.5</td>\n",
              "      <td>3.3</td>\n",
              "      <td>10818480</td>\n",
              "      <td>9</td>\n",
              "    </tr>\n",
              "    <tr>\n",
              "      <th>7106</th>\n",
              "      <td>1614</td>\n",
              "      <td>152</td>\n",
              "      <td>2.0</td>\n",
              "      <td>1.0</td>\n",
              "      <td>4</td>\n",
              "      <td>4.3</td>\n",
              "      <td>4.2</td>\n",
              "      <td>2.9</td>\n",
              "      <td>8351410</td>\n",
              "      <td>28</td>\n",
              "    </tr>\n",
              "    <tr>\n",
              "      <th>7107</th>\n",
              "      <td>787</td>\n",
              "      <td>40</td>\n",
              "      <td>1.0</td>\n",
              "      <td>1.0</td>\n",
              "      <td>2</td>\n",
              "      <td>4.6</td>\n",
              "      <td>3.8</td>\n",
              "      <td>4.1</td>\n",
              "      <td>8507000</td>\n",
              "      <td>32</td>\n",
              "    </tr>\n",
              "    <tr>\n",
              "      <th>7108</th>\n",
              "      <td>1896</td>\n",
              "      <td>156</td>\n",
              "      <td>3.0</td>\n",
              "      <td>2.0</td>\n",
              "      <td>5</td>\n",
              "      <td>3.1</td>\n",
              "      <td>3.5</td>\n",
              "      <td>4.3</td>\n",
              "      <td>9976480</td>\n",
              "      <td>44</td>\n",
              "    </tr>\n",
              "  </tbody>\n",
              "</table>\n",
              "<p>7109 rows × 10 columns</p>\n",
              "</div>\n",
              "      <button class=\"colab-df-convert\" onclick=\"convertToInteractive('df-7aa56843-0674-4546-a386-666ac46caba0')\"\n",
              "              title=\"Convert this dataframe to an interactive table.\"\n",
              "              style=\"display:none;\">\n",
              "        \n",
              "  <svg xmlns=\"http://www.w3.org/2000/svg\" height=\"24px\"viewBox=\"0 0 24 24\"\n",
              "       width=\"24px\">\n",
              "    <path d=\"M0 0h24v24H0V0z\" fill=\"none\"/>\n",
              "    <path d=\"M18.56 5.44l.94 2.06.94-2.06 2.06-.94-2.06-.94-.94-2.06-.94 2.06-2.06.94zm-11 1L8.5 8.5l.94-2.06 2.06-.94-2.06-.94L8.5 2.5l-.94 2.06-2.06.94zm10 10l.94 2.06.94-2.06 2.06-.94-2.06-.94-.94-2.06-.94 2.06-2.06.94z\"/><path d=\"M17.41 7.96l-1.37-1.37c-.4-.4-.92-.59-1.43-.59-.52 0-1.04.2-1.43.59L10.3 9.45l-7.72 7.72c-.78.78-.78 2.05 0 2.83L4 21.41c.39.39.9.59 1.41.59.51 0 1.02-.2 1.41-.59l7.78-7.78 2.81-2.81c.8-.78.8-2.07 0-2.86zM5.41 20L4 18.59l7.72-7.72 1.47 1.35L5.41 20z\"/>\n",
              "  </svg>\n",
              "      </button>\n",
              "      \n",
              "  <style>\n",
              "    .colab-df-container {\n",
              "      display:flex;\n",
              "      flex-wrap:wrap;\n",
              "      gap: 12px;\n",
              "    }\n",
              "\n",
              "    .colab-df-convert {\n",
              "      background-color: #E8F0FE;\n",
              "      border: none;\n",
              "      border-radius: 50%;\n",
              "      cursor: pointer;\n",
              "      display: none;\n",
              "      fill: #1967D2;\n",
              "      height: 32px;\n",
              "      padding: 0 0 0 0;\n",
              "      width: 32px;\n",
              "    }\n",
              "\n",
              "    .colab-df-convert:hover {\n",
              "      background-color: #E2EBFA;\n",
              "      box-shadow: 0px 1px 2px rgba(60, 64, 67, 0.3), 0px 1px 3px 1px rgba(60, 64, 67, 0.15);\n",
              "      fill: #174EA6;\n",
              "    }\n",
              "\n",
              "    [theme=dark] .colab-df-convert {\n",
              "      background-color: #3B4455;\n",
              "      fill: #D2E3FC;\n",
              "    }\n",
              "\n",
              "    [theme=dark] .colab-df-convert:hover {\n",
              "      background-color: #434B5C;\n",
              "      box-shadow: 0px 1px 3px 1px rgba(0, 0, 0, 0.15);\n",
              "      filter: drop-shadow(0px 1px 2px rgba(0, 0, 0, 0.3));\n",
              "      fill: #FFFFFF;\n",
              "    }\n",
              "  </style>\n",
              "\n",
              "      <script>\n",
              "        const buttonEl =\n",
              "          document.querySelector('#df-7aa56843-0674-4546-a386-666ac46caba0 button.colab-df-convert');\n",
              "        buttonEl.style.display =\n",
              "          google.colab.kernel.accessAllowed ? 'block' : 'none';\n",
              "\n",
              "        async function convertToInteractive(key) {\n",
              "          const element = document.querySelector('#df-7aa56843-0674-4546-a386-666ac46caba0');\n",
              "          const dataTable =\n",
              "            await google.colab.kernel.invokeFunction('convertToInteractive',\n",
              "                                                     [key], {});\n",
              "          if (!dataTable) return;\n",
              "\n",
              "          const docLinkHtml = 'Like what you see? Visit the ' +\n",
              "            '<a target=\"_blank\" href=https://colab.research.google.com/notebooks/data_table.ipynb>data table notebook</a>'\n",
              "            + ' to learn more about interactive tables.';\n",
              "          element.innerHTML = '';\n",
              "          dataTable['output_type'] = 'display_data';\n",
              "          await google.colab.output.renderOutput(dataTable, element);\n",
              "          const docLink = document.createElement('div');\n",
              "          docLink.innerHTML = docLinkHtml;\n",
              "          element.appendChild(docLink);\n",
              "        }\n",
              "      </script>\n",
              "    </div>\n",
              "  </div>\n",
              "  "
            ]
          },
          "metadata": {},
          "execution_count": 62
        }
      ]
    },
    {
      "cell_type": "code",
      "source": [
        "categorical_data"
      ],
      "metadata": {
        "colab": {
          "base_uri": "https://localhost:8080/",
          "height": 423
        },
        "id": "9zcnsj6mIW0L",
        "outputId": "72a7cbcc-055e-4d18-d224-f6e684b573c3"
      },
      "execution_count": 63,
      "outputs": [
        {
          "output_type": "execute_result",
          "data": {
            "text/plain": [
              "            AREA    SALE_COND PARK_FACIL   BUILDTYPE UTILITY_AVAIL     STREET  \\\n",
              "0     Karapakkam     Abnormal        Yes  Commercial       All Pub      Paved   \n",
              "1     Anna Nagar     Abnormal         No  Commercial       All Pub     Gravel   \n",
              "2          Adyar     Abnormal        Yes  Commercial           ELO     Gravel   \n",
              "3      Velachery       Family         No       Other       NoSewr       Paved   \n",
              "4     Karapakkam     Abnormal        Yes       Other       All Pub     Gravel   \n",
              "...          ...          ...        ...         ...           ...        ...   \n",
              "7104  Karapakkam     Adj Land         No       Other           ELO  No Access   \n",
              "7105   Velachery       Family        Yes       Other        NoSeWa  No Access   \n",
              "7106   Velachery  Normal Sale         No       House        NoSeWa     Gravel   \n",
              "7107  Karapakkam      Partial        Yes  Commercial           ELO      Paved   \n",
              "7108   Velachery      Partial        Yes       Other           ELO      Paved   \n",
              "\n",
              "     MZZONE QS_OVERALL  \n",
              "0         A       4.33  \n",
              "1        RH      3.765  \n",
              "2        RL       3.09  \n",
              "3         I       4.01  \n",
              "4         C       3.29  \n",
              "...     ...        ...  \n",
              "7104     RM       2.52  \n",
              "7105     RH       3.92  \n",
              "7106      I       3.84  \n",
              "7107     RL       4.16  \n",
              "7108      I       3.64  \n",
              "\n",
              "[7109 rows x 8 columns]"
            ],
            "text/html": [
              "\n",
              "  <div id=\"df-613bd141-dac0-45a7-aba6-730bab91174f\">\n",
              "    <div class=\"colab-df-container\">\n",
              "      <div>\n",
              "<style scoped>\n",
              "    .dataframe tbody tr th:only-of-type {\n",
              "        vertical-align: middle;\n",
              "    }\n",
              "\n",
              "    .dataframe tbody tr th {\n",
              "        vertical-align: top;\n",
              "    }\n",
              "\n",
              "    .dataframe thead th {\n",
              "        text-align: right;\n",
              "    }\n",
              "</style>\n",
              "<table border=\"1\" class=\"dataframe\">\n",
              "  <thead>\n",
              "    <tr style=\"text-align: right;\">\n",
              "      <th></th>\n",
              "      <th>AREA</th>\n",
              "      <th>SALE_COND</th>\n",
              "      <th>PARK_FACIL</th>\n",
              "      <th>BUILDTYPE</th>\n",
              "      <th>UTILITY_AVAIL</th>\n",
              "      <th>STREET</th>\n",
              "      <th>MZZONE</th>\n",
              "      <th>QS_OVERALL</th>\n",
              "    </tr>\n",
              "  </thead>\n",
              "  <tbody>\n",
              "    <tr>\n",
              "      <th>0</th>\n",
              "      <td>Karapakkam</td>\n",
              "      <td>Abnormal</td>\n",
              "      <td>Yes</td>\n",
              "      <td>Commercial</td>\n",
              "      <td>All Pub</td>\n",
              "      <td>Paved</td>\n",
              "      <td>A</td>\n",
              "      <td>4.33</td>\n",
              "    </tr>\n",
              "    <tr>\n",
              "      <th>1</th>\n",
              "      <td>Anna Nagar</td>\n",
              "      <td>Abnormal</td>\n",
              "      <td>No</td>\n",
              "      <td>Commercial</td>\n",
              "      <td>All Pub</td>\n",
              "      <td>Gravel</td>\n",
              "      <td>RH</td>\n",
              "      <td>3.765</td>\n",
              "    </tr>\n",
              "    <tr>\n",
              "      <th>2</th>\n",
              "      <td>Adyar</td>\n",
              "      <td>Abnormal</td>\n",
              "      <td>Yes</td>\n",
              "      <td>Commercial</td>\n",
              "      <td>ELO</td>\n",
              "      <td>Gravel</td>\n",
              "      <td>RL</td>\n",
              "      <td>3.09</td>\n",
              "    </tr>\n",
              "    <tr>\n",
              "      <th>3</th>\n",
              "      <td>Velachery</td>\n",
              "      <td>Family</td>\n",
              "      <td>No</td>\n",
              "      <td>Other</td>\n",
              "      <td>NoSewr</td>\n",
              "      <td>Paved</td>\n",
              "      <td>I</td>\n",
              "      <td>4.01</td>\n",
              "    </tr>\n",
              "    <tr>\n",
              "      <th>4</th>\n",
              "      <td>Karapakkam</td>\n",
              "      <td>Abnormal</td>\n",
              "      <td>Yes</td>\n",
              "      <td>Other</td>\n",
              "      <td>All Pub</td>\n",
              "      <td>Gravel</td>\n",
              "      <td>C</td>\n",
              "      <td>3.29</td>\n",
              "    </tr>\n",
              "    <tr>\n",
              "      <th>...</th>\n",
              "      <td>...</td>\n",
              "      <td>...</td>\n",
              "      <td>...</td>\n",
              "      <td>...</td>\n",
              "      <td>...</td>\n",
              "      <td>...</td>\n",
              "      <td>...</td>\n",
              "      <td>...</td>\n",
              "    </tr>\n",
              "    <tr>\n",
              "      <th>7104</th>\n",
              "      <td>Karapakkam</td>\n",
              "      <td>Adj Land</td>\n",
              "      <td>No</td>\n",
              "      <td>Other</td>\n",
              "      <td>ELO</td>\n",
              "      <td>No Access</td>\n",
              "      <td>RM</td>\n",
              "      <td>2.52</td>\n",
              "    </tr>\n",
              "    <tr>\n",
              "      <th>7105</th>\n",
              "      <td>Velachery</td>\n",
              "      <td>Family</td>\n",
              "      <td>Yes</td>\n",
              "      <td>Other</td>\n",
              "      <td>NoSeWa</td>\n",
              "      <td>No Access</td>\n",
              "      <td>RH</td>\n",
              "      <td>3.92</td>\n",
              "    </tr>\n",
              "    <tr>\n",
              "      <th>7106</th>\n",
              "      <td>Velachery</td>\n",
              "      <td>Normal Sale</td>\n",
              "      <td>No</td>\n",
              "      <td>House</td>\n",
              "      <td>NoSeWa</td>\n",
              "      <td>Gravel</td>\n",
              "      <td>I</td>\n",
              "      <td>3.84</td>\n",
              "    </tr>\n",
              "    <tr>\n",
              "      <th>7107</th>\n",
              "      <td>Karapakkam</td>\n",
              "      <td>Partial</td>\n",
              "      <td>Yes</td>\n",
              "      <td>Commercial</td>\n",
              "      <td>ELO</td>\n",
              "      <td>Paved</td>\n",
              "      <td>RL</td>\n",
              "      <td>4.16</td>\n",
              "    </tr>\n",
              "    <tr>\n",
              "      <th>7108</th>\n",
              "      <td>Velachery</td>\n",
              "      <td>Partial</td>\n",
              "      <td>Yes</td>\n",
              "      <td>Other</td>\n",
              "      <td>ELO</td>\n",
              "      <td>Paved</td>\n",
              "      <td>I</td>\n",
              "      <td>3.64</td>\n",
              "    </tr>\n",
              "  </tbody>\n",
              "</table>\n",
              "<p>7109 rows × 8 columns</p>\n",
              "</div>\n",
              "      <button class=\"colab-df-convert\" onclick=\"convertToInteractive('df-613bd141-dac0-45a7-aba6-730bab91174f')\"\n",
              "              title=\"Convert this dataframe to an interactive table.\"\n",
              "              style=\"display:none;\">\n",
              "        \n",
              "  <svg xmlns=\"http://www.w3.org/2000/svg\" height=\"24px\"viewBox=\"0 0 24 24\"\n",
              "       width=\"24px\">\n",
              "    <path d=\"M0 0h24v24H0V0z\" fill=\"none\"/>\n",
              "    <path d=\"M18.56 5.44l.94 2.06.94-2.06 2.06-.94-2.06-.94-.94-2.06-.94 2.06-2.06.94zm-11 1L8.5 8.5l.94-2.06 2.06-.94-2.06-.94L8.5 2.5l-.94 2.06-2.06.94zm10 10l.94 2.06.94-2.06 2.06-.94-2.06-.94-.94-2.06-.94 2.06-2.06.94z\"/><path d=\"M17.41 7.96l-1.37-1.37c-.4-.4-.92-.59-1.43-.59-.52 0-1.04.2-1.43.59L10.3 9.45l-7.72 7.72c-.78.78-.78 2.05 0 2.83L4 21.41c.39.39.9.59 1.41.59.51 0 1.02-.2 1.41-.59l7.78-7.78 2.81-2.81c.8-.78.8-2.07 0-2.86zM5.41 20L4 18.59l7.72-7.72 1.47 1.35L5.41 20z\"/>\n",
              "  </svg>\n",
              "      </button>\n",
              "      \n",
              "  <style>\n",
              "    .colab-df-container {\n",
              "      display:flex;\n",
              "      flex-wrap:wrap;\n",
              "      gap: 12px;\n",
              "    }\n",
              "\n",
              "    .colab-df-convert {\n",
              "      background-color: #E8F0FE;\n",
              "      border: none;\n",
              "      border-radius: 50%;\n",
              "      cursor: pointer;\n",
              "      display: none;\n",
              "      fill: #1967D2;\n",
              "      height: 32px;\n",
              "      padding: 0 0 0 0;\n",
              "      width: 32px;\n",
              "    }\n",
              "\n",
              "    .colab-df-convert:hover {\n",
              "      background-color: #E2EBFA;\n",
              "      box-shadow: 0px 1px 2px rgba(60, 64, 67, 0.3), 0px 1px 3px 1px rgba(60, 64, 67, 0.15);\n",
              "      fill: #174EA6;\n",
              "    }\n",
              "\n",
              "    [theme=dark] .colab-df-convert {\n",
              "      background-color: #3B4455;\n",
              "      fill: #D2E3FC;\n",
              "    }\n",
              "\n",
              "    [theme=dark] .colab-df-convert:hover {\n",
              "      background-color: #434B5C;\n",
              "      box-shadow: 0px 1px 3px 1px rgba(0, 0, 0, 0.15);\n",
              "      filter: drop-shadow(0px 1px 2px rgba(0, 0, 0, 0.3));\n",
              "      fill: #FFFFFF;\n",
              "    }\n",
              "  </style>\n",
              "\n",
              "      <script>\n",
              "        const buttonEl =\n",
              "          document.querySelector('#df-613bd141-dac0-45a7-aba6-730bab91174f button.colab-df-convert');\n",
              "        buttonEl.style.display =\n",
              "          google.colab.kernel.accessAllowed ? 'block' : 'none';\n",
              "\n",
              "        async function convertToInteractive(key) {\n",
              "          const element = document.querySelector('#df-613bd141-dac0-45a7-aba6-730bab91174f');\n",
              "          const dataTable =\n",
              "            await google.colab.kernel.invokeFunction('convertToInteractive',\n",
              "                                                     [key], {});\n",
              "          if (!dataTable) return;\n",
              "\n",
              "          const docLinkHtml = 'Like what you see? Visit the ' +\n",
              "            '<a target=\"_blank\" href=https://colab.research.google.com/notebooks/data_table.ipynb>data table notebook</a>'\n",
              "            + ' to learn more about interactive tables.';\n",
              "          element.innerHTML = '';\n",
              "          dataTable['output_type'] = 'display_data';\n",
              "          await google.colab.output.renderOutput(dataTable, element);\n",
              "          const docLink = document.createElement('div');\n",
              "          docLink.innerHTML = docLinkHtml;\n",
              "          element.appendChild(docLink);\n",
              "        }\n",
              "      </script>\n",
              "    </div>\n",
              "  </div>\n",
              "  "
            ]
          },
          "metadata": {},
          "execution_count": 63
        }
      ]
    },
    {
      "cell_type": "code",
      "source": [
        "numerical_features=[feature for feature in numeric_data.columns]\n",
        "numerical_features"
      ],
      "metadata": {
        "colab": {
          "base_uri": "https://localhost:8080/"
        },
        "id": "wzqtlVs0JIBb",
        "outputId": "2a4e47b2-d892-4828-9274-188e9fc4ec37"
      },
      "execution_count": 64,
      "outputs": [
        {
          "output_type": "execute_result",
          "data": {
            "text/plain": [
              "['INT_SQFT',\n",
              " 'DIST_MAINROAD',\n",
              " 'N_BEDROOM',\n",
              " 'N_BATHROOM',\n",
              " 'N_ROOM',\n",
              " 'QS_ROOMS',\n",
              " 'QS_BATHROOM',\n",
              " 'QS_BEDROOM',\n",
              " 'SALES_PRICE',\n",
              " 'AGE']"
            ]
          },
          "metadata": {},
          "execution_count": 64
        }
      ]
    },
    {
      "cell_type": "code",
      "source": [
        "categorical_features=[feature for feature in categorical_data.columns]\n",
        "categorical_features"
      ],
      "metadata": {
        "colab": {
          "base_uri": "https://localhost:8080/"
        },
        "id": "7h3jBkroJhAI",
        "outputId": "bf33860c-d164-4f41-ba5d-c7ec69029db2"
      },
      "execution_count": 65,
      "outputs": [
        {
          "output_type": "execute_result",
          "data": {
            "text/plain": [
              "['AREA',\n",
              " 'SALE_COND',\n",
              " 'PARK_FACIL',\n",
              " 'BUILDTYPE',\n",
              " 'UTILITY_AVAIL',\n",
              " 'STREET',\n",
              " 'MZZONE',\n",
              " 'QS_OVERALL']"
            ]
          },
          "metadata": {},
          "execution_count": 65
        }
      ]
    },
    {
      "cell_type": "markdown",
      "source": [
        "eda of numeric features\n"
      ],
      "metadata": {
        "id": "jCKKdI1AJvO7"
      }
    },
    {
      "cell_type": "code",
      "source": [
        "target=data.SALES_PRICE"
      ],
      "metadata": {
        "id": "QtYk-ZAtJrui"
      },
      "execution_count": 66,
      "outputs": []
    },
    {
      "cell_type": "code",
      "source": [
        "plt.figure(figsize=(30,15))\n",
        "plt.subplot(241)\n",
        "sns.regplot(x=data.INT_SQFT,y=target,color=\"r\")\n",
        "plt.title('INT_SQFT VS SALES_PRICE')\n",
        "plt.subplot(242)\n",
        "sns.regplot(x=data.DIST_MAINROAD,y=target,color=\"g\")\n",
        "plt.title('DIST_MAINROAD VS SALES_PRICE')\n",
        "plt.subplot(243)\n",
        "sns.regplot(x=data.N_ROOM,y=target,color=\"r\")\n",
        "plt.title('N_ROOM VS SALES_PRICE')\n",
        "plt.subplot(244)\n",
        "sns.regplot(x=data.QS_ROOMS,y=target,color=\"g\")\n",
        "plt.title('QS_ROOMS VS SALES_PRICE')\n",
        "plt.subplot(245)\n",
        "sns.regplot(x=data.QS_BATHROOM,y=target,color=\"r\")\n",
        "plt.title('QS_BARTHROOM VS SALES_PRICE')\n",
        "plt.subplot(246)\n",
        "sns.regplot(x=data.QS_BEDROOM,y=target,color=\"g\")\n",
        "plt.title('QS_BEDROOM VS SALES_PRICE')\n",
        "plt.subplot(247)\n",
        "sns.regplot(x=data.AGE,y=target,color=\"r\")\n",
        "plt.title('AGE VS SALES_PRICE')\n",
        "\n"
      ],
      "metadata": {
        "colab": {
          "base_uri": "https://localhost:8080/",
          "height": 905
        },
        "id": "7b-MlGAIJ34Y",
        "outputId": "eabaf170-8d02-4e59-bf68-41854dd0bd55"
      },
      "execution_count": 67,
      "outputs": [
        {
          "output_type": "execute_result",
          "data": {
            "text/plain": [
              "Text(0.5, 1.0, 'AGE VS SALES_PRICE')"
            ]
          },
          "metadata": {},
          "execution_count": 67
        },
        {
          "output_type": "display_data",
          "data": {
            "text/plain": [
              "<Figure size 2160x1080 with 7 Axes>"
            ],
            "image/png": "[encoded data removed]"
          },
          "metadata": {
            "needs_background": "light"
          }
        }
      ]
    },
    {
      "cell_type": "markdown",
      "source": [
        "from the plots we understand that;\n",
        "1)INT_SQFT is directly proportional to increase in price\n",
        "2)N_ROOM is directly proportional to increase in price\n",
        "3)age is inversely proportional to increase in price"
      ],
      "metadata": {
        "id": "V86E93wknqgL"
      }
    },
    {
      "cell_type": "markdown",
      "source": [
        "eda of categorical features"
      ],
      "metadata": {
        "id": "BAFJGV2Y01RB"
      }
    },
    {
      "cell_type": "code",
      "source": [
        "plt.figure(figsize=(30,15))\n",
        "plt.subplot(241)\n",
        "sns.barplot(x=data.AREA,y=data.SALES_PRICE,order=data.groupby('AREA')['SALES_PRICE'].mean().reset_index().sort_values('SALES_PRICE')['AREA'])\n",
        "plt.title('AREA VS SALES_PRICE')\n",
        "plt.subplot(242)\n",
        "sns.barplot(x=data.SALE_COND,y=data.SALES_PRICE,order=data.groupby('SALE_COND')['SALES_PRICE'].mean().reset_index().sort_values('SALES_PRICE')['SALE_COND'])\n",
        "plt.title('SALE_COND VS SALES_PRICE')\n",
        "plt.subplot(243)\n",
        "sns.barplot(x=data.PARK_FACIL,y=data.SALES_PRICE,order=data.groupby('PARK_FACIL')['SALES_PRICE'].mean().reset_index().sort_values('SALES_PRICE')['PARK_FACIL'])\n",
        "plt.title('PARK_FACIL VS SALES_PRICE')\n",
        "plt.subplot(244)\n",
        "sns.barplot(x=data.BUILDTYPE,y=data.SALES_PRICE,order=data.groupby('BUILDTYPE')['SALES_PRICE'].mean().reset_index().sort_values('SALES_PRICE')['BUILDTYPE'])\n",
        "plt.title('BUILDTYPE VS SALES_PRICE')\n",
        "plt.subplot(245)\n",
        "sns.barplot(x=data.UTILITY_AVAIL,y=data.SALES_PRICE,order=data.groupby('UTILITY_AVAIL')['SALES_PRICE'].mean().reset_index().sort_values('SALES_PRICE')['UTILITY_AVAIL'])\n",
        "plt.title('UTILITY_AVAIL VS SALES_PRICE')\n",
        "plt.subplot(246)\n",
        "sns.barplot(x=data.STREET,y=data.SALES_PRICE,order=data.groupby('STREET')['SALES_PRICE'].mean().reset_index().sort_values('SALES_PRICE')['STREET'])\n",
        "plt.title('STREET VS SALES_PRICE')\n",
        "plt.subplot(247)\n",
        "sns.barplot(x=data.MZZONE,y=data.SALES_PRICE,order=data.groupby('MZZONE')['SALES_PRICE'].mean().reset_index().sort_values('SALES_PRICE')['MZZONE'])\n",
        "plt.title('MZZONE VS SALES_PRICE')"
      ],
      "metadata": {
        "id": "wQcQLMCNO5mJ",
        "colab": {
          "base_uri": "https://localhost:8080/",
          "height": 905
        },
        "outputId": "584fc8ae-35b2-4490-99b2-e1d4226ac522"
      },
      "execution_count": 68,
      "outputs": [
        {
          "output_type": "execute_result",
          "data": {
            "text/plain": [
              "Text(0.5, 1.0, 'MZZONE VS SALES_PRICE')"
            ]
          },
          "metadata": {},
          "execution_count": 68
        },
        {
          "output_type": "display_data",
          "data": {
            "text/plain": [
              "<Figure size 2160x1080 with 7 Axes>"
            ],
            "image/png": "[encoded data removed]"
          },
          "metadata": {
            "needs_background": "light"
          }
        }
      ]
    },
    {
      "cell_type": "markdown",
      "source": [
        "encoding"
      ],
      "metadata": {
        "id": "nDOyulH76Fpq"
      }
    },
    {
      "cell_type": "code",
      "source": [
        "data.AREA=data.AREA.map({'Karapakkam':1,'Adyar':2,'Chrompet':3,'Velachery':4,'KK Nagar':5,'Anna Nagar':6,'T Nagar':7})"
      ],
      "metadata": {
        "id": "5j3O5dpg6HXu"
      },
      "execution_count": 69,
      "outputs": []
    },
    {
      "cell_type": "code",
      "source": [
        "data.SALE_COND=data.SALE_COND.map({'Partial':1,'Family':2,'Abnormal':3,'Normal Sale':4,'Adj Land':5})"
      ],
      "metadata": {
        "id": "Ic_R3PsR6pmr"
      },
      "execution_count": 70,
      "outputs": []
    },
    {
      "cell_type": "code",
      "source": [
        "data.PARK_FACIL=data.PARK_FACIL.map({'No':1,'Yes':2})"
      ],
      "metadata": {
        "id": "eUlQ4_id7DKz"
      },
      "execution_count": 71,
      "outputs": []
    },
    {
      "cell_type": "code",
      "source": [
        "one_hot=pd.get_dummies(data.BUILDTYPE).astype(int)\n",
        "data=data.join(one_hot)"
      ],
      "metadata": {
        "id": "67Uo_86T7P94"
      },
      "execution_count": 72,
      "outputs": []
    },
    {
      "cell_type": "code",
      "source": [
        "data.UTILITY_AVAIL=data.UTILITY_AVAIL.map({'ELO':1,'NoSeWa':2,'NoSewr ':3,'All Pub':4})"
      ],
      "metadata": {
        "id": "rVSqrmSy7gfR"
      },
      "execution_count": 73,
      "outputs": []
    },
    {
      "cell_type": "code",
      "source": [
        "data.STREET=data.STREET.map({'No Access':1,'Paved':2,'Gravel':3})"
      ],
      "metadata": {
        "id": "s3nFAF5771mT"
      },
      "execution_count": 74,
      "outputs": []
    },
    {
      "cell_type": "code",
      "source": [
        "data.MZZONE=data.MZZONE.map({'A':1,'C':2,'I':3,'RH':4,'RL':5,'RM':6})"
      ],
      "metadata": {
        "id": "cGB5Lc_i8Ctz"
      },
      "execution_count": 75,
      "outputs": []
    },
    {
      "cell_type": "code",
      "source": [
        "data=data.drop(columns=['BUILDTYPE','QS_ROOMS','QS_BATHROOM','QS_BEDROOM','QS_OVERALL','DIST_MAINROAD'])\n",
        "data.head()"
      ],
      "metadata": {
        "colab": {
          "base_uri": "https://localhost:8080/",
          "height": 206
        },
        "id": "LIjDw1dN9FoE",
        "outputId": "f5bf957c-9278-4a73-d00e-515aa7153286"
      },
      "execution_count": 76,
      "outputs": [
        {
          "output_type": "execute_result",
          "data": {
            "text/plain": [
              "   AREA  INT_SQFT  N_BEDROOM  N_BATHROOM  N_ROOM  SALE_COND  PARK_FACIL  \\\n",
              "0     1      1004        1.0         1.0       3          3           2   \n",
              "1     6      1986        2.0         1.0       5          3           1   \n",
              "2     2       909        1.0         1.0       3          3           2   \n",
              "3     4      1855        3.0         2.0       5          2           1   \n",
              "4     1      1226        1.0         1.0       3          3           2   \n",
              "\n",
              "   UTILITY_AVAIL  STREET  MZZONE  SALES_PRICE  AGE  Commercial  House  Other  \n",
              "0              4       2       1      7600000   44           1      0      0  \n",
              "1              4       3       4     21717770   11           1      0      0  \n",
              "2              1       3       5     13159200   20           1      0      0  \n",
              "3              3       2       3      9630290   22           0      0      1  \n",
              "4              4       3       2      7406250   30           0      0      1  "
            ],
            "text/html": [
              "\n",
              "  <div id=\"df-17b67d60-6c7a-40eb-9236-cb657146dd43\">\n",
              "    <div class=\"colab-df-container\">\n",
              "      <div>\n",
              "<style scoped>\n",
              "    .dataframe tbody tr th:only-of-type {\n",
              "        vertical-align: middle;\n",
              "    }\n",
              "\n",
              "    .dataframe tbody tr th {\n",
              "        vertical-align: top;\n",
              "    }\n",
              "\n",
              "    .dataframe thead th {\n",
              "        text-align: right;\n",
              "    }\n",
              "</style>\n",
              "<table border=\"1\" class=\"dataframe\">\n",
              "  <thead>\n",
              "    <tr style=\"text-align: right;\">\n",
              "      <th></th>\n",
              "      <th>AREA</th>\n",
              "      <th>INT_SQFT</th>\n",
              "      <th>N_BEDROOM</th>\n",
              "      <th>N_BATHROOM</th>\n",
              "      <th>N_ROOM</th>\n",
              "      <th>SALE_COND</th>\n",
              "      <th>PARK_FACIL</th>\n",
              "      <th>UTILITY_AVAIL</th>\n",
              "      <th>STREET</th>\n",
              "      <th>MZZONE</th>\n",
              "      <th>SALES_PRICE</th>\n",
              "      <th>AGE</th>\n",
              "      <th>Commercial</th>\n",
              "      <th>House</th>\n",
              "      <th>Other</th>\n",
              "    </tr>\n",
              "  </thead>\n",
              "  <tbody>\n",
              "    <tr>\n",
              "      <th>0</th>\n",
              "      <td>1</td>\n",
              "      <td>1004</td>\n",
              "      <td>1.0</td>\n",
              "      <td>1.0</td>\n",
              "      <td>3</td>\n",
              "      <td>3</td>\n",
              "      <td>2</td>\n",
              "      <td>4</td>\n",
              "      <td>2</td>\n",
              "      <td>1</td>\n",
              "      <td>7600000</td>\n",
              "      <td>44</td>\n",
              "      <td>1</td>\n",
              "      <td>0</td>\n",
              "      <td>0</td>\n",
              "    </tr>\n",
              "    <tr>\n",
              "      <th>1</th>\n",
              "      <td>6</td>\n",
              "      <td>1986</td>\n",
              "      <td>2.0</td>\n",
              "      <td>1.0</td>\n",
              "      <td>5</td>\n",
              "      <td>3</td>\n",
              "      <td>1</td>\n",
              "      <td>4</td>\n",
              "      <td>3</td>\n",
              "      <td>4</td>\n",
              "      <td>21717770</td>\n",
              "      <td>11</td>\n",
              "      <td>1</td>\n",
              "      <td>0</td>\n",
              "      <td>0</td>\n",
              "    </tr>\n",
              "    <tr>\n",
              "      <th>2</th>\n",
              "      <td>2</td>\n",
              "      <td>909</td>\n",
              "      <td>1.0</td>\n",
              "      <td>1.0</td>\n",
              "      <td>3</td>\n",
              "      <td>3</td>\n",
              "      <td>2</td>\n",
              "      <td>1</td>\n",
              "      <td>3</td>\n",
              "      <td>5</td>\n",
              "      <td>13159200</td>\n",
              "      <td>20</td>\n",
              "      <td>1</td>\n",
              "      <td>0</td>\n",
              "      <td>0</td>\n",
              "    </tr>\n",
              "    <tr>\n",
              "      <th>3</th>\n",
              "      <td>4</td>\n",
              "      <td>1855</td>\n",
              "      <td>3.0</td>\n",
              "      <td>2.0</td>\n",
              "      <td>5</td>\n",
              "      <td>2</td>\n",
              "      <td>1</td>\n",
              "      <td>3</td>\n",
              "      <td>2</td>\n",
              "      <td>3</td>\n",
              "      <td>9630290</td>\n",
              "      <td>22</td>\n",
              "      <td>0</td>\n",
              "      <td>0</td>\n",
              "      <td>1</td>\n",
              "    </tr>\n",
              "    <tr>\n",
              "      <th>4</th>\n",
              "      <td>1</td>\n",
              "      <td>1226</td>\n",
              "      <td>1.0</td>\n",
              "      <td>1.0</td>\n",
              "      <td>3</td>\n",
              "      <td>3</td>\n",
              "      <td>2</td>\n",
              "      <td>4</td>\n",
              "      <td>3</td>\n",
              "      <td>2</td>\n",
              "      <td>7406250</td>\n",
              "      <td>30</td>\n",
              "      <td>0</td>\n",
              "      <td>0</td>\n",
              "      <td>1</td>\n",
              "    </tr>\n",
              "  </tbody>\n",
              "</table>\n",
              "</div>\n",
              "      <button class=\"colab-df-convert\" onclick=\"convertToInteractive('df-17b67d60-6c7a-40eb-9236-cb657146dd43')\"\n",
              "              title=\"Convert this dataframe to an interactive table.\"\n",
              "              style=\"display:none;\">\n",
              "        \n",
              "  <svg xmlns=\"http://www.w3.org/2000/svg\" height=\"24px\"viewBox=\"0 0 24 24\"\n",
              "       width=\"24px\">\n",
              "    <path d=\"M0 0h24v24H0V0z\" fill=\"none\"/>\n",
              "    <path d=\"M18.56 5.44l.94 2.06.94-2.06 2.06-.94-2.06-.94-.94-2.06-.94 2.06-2.06.94zm-11 1L8.5 8.5l.94-2.06 2.06-.94-2.06-.94L8.5 2.5l-.94 2.06-2.06.94zm10 10l.94 2.06.94-2.06 2.06-.94-2.06-.94-.94-2.06-.94 2.06-2.06.94z\"/><path d=\"M17.41 7.96l-1.37-1.37c-.4-.4-.92-.59-1.43-.59-.52 0-1.04.2-1.43.59L10.3 9.45l-7.72 7.72c-.78.78-.78 2.05 0 2.83L4 21.41c.39.39.9.59 1.41.59.51 0 1.02-.2 1.41-.59l7.78-7.78 2.81-2.81c.8-.78.8-2.07 0-2.86zM5.41 20L4 18.59l7.72-7.72 1.47 1.35L5.41 20z\"/>\n",
              "  </svg>\n",
              "      </button>\n",
              "      \n",
              "  <style>\n",
              "    .colab-df-container {\n",
              "      display:flex;\n",
              "      flex-wrap:wrap;\n",
              "      gap: 12px;\n",
              "    }\n",
              "\n",
              "    .colab-df-convert {\n",
              "      background-color: #E8F0FE;\n",
              "      border: none;\n",
              "      border-radius: 50%;\n",
              "      cursor: pointer;\n",
              "      display: none;\n",
              "      fill: #1967D2;\n",
              "      height: 32px;\n",
              "      padding: 0 0 0 0;\n",
              "      width: 32px;\n",
              "    }\n",
              "\n",
              "    .colab-df-convert:hover {\n",
              "      background-color: #E2EBFA;\n",
              "      box-shadow: 0px 1px 2px rgba(60, 64, 67, 0.3), 0px 1px 3px 1px rgba(60, 64, 67, 0.15);\n",
              "      fill: #174EA6;\n",
              "    }\n",
              "\n",
              "    [theme=dark] .colab-df-convert {\n",
              "      background-color: #3B4455;\n",
              "      fill: #D2E3FC;\n",
              "    }\n",
              "\n",
              "    [theme=dark] .colab-df-convert:hover {\n",
              "      background-color: #434B5C;\n",
              "      box-shadow: 0px 1px 3px 1px rgba(0, 0, 0, 0.15);\n",
              "      filter: drop-shadow(0px 1px 2px rgba(0, 0, 0, 0.3));\n",
              "      fill: #FFFFFF;\n",
              "    }\n",
              "  </style>\n",
              "\n",
              "      <script>\n",
              "        const buttonEl =\n",
              "          document.querySelector('#df-17b67d60-6c7a-40eb-9236-cb657146dd43 button.colab-df-convert');\n",
              "        buttonEl.style.display =\n",
              "          google.colab.kernel.accessAllowed ? 'block' : 'none';\n",
              "\n",
              "        async function convertToInteractive(key) {\n",
              "          const element = document.querySelector('#df-17b67d60-6c7a-40eb-9236-cb657146dd43');\n",
              "          const dataTable =\n",
              "            await google.colab.kernel.invokeFunction('convertToInteractive',\n",
              "                                                     [key], {});\n",
              "          if (!dataTable) return;\n",
              "\n",
              "          const docLinkHtml = 'Like what you see? Visit the ' +\n",
              "            '<a target=\"_blank\" href=https://colab.research.google.com/notebooks/data_table.ipynb>data table notebook</a>'\n",
              "            + ' to learn more about interactive tables.';\n",
              "          element.innerHTML = '';\n",
              "          dataTable['output_type'] = 'display_data';\n",
              "          await google.colab.output.renderOutput(dataTable, element);\n",
              "          const docLink = document.createElement('div');\n",
              "          docLink.innerHTML = docLinkHtml;\n",
              "          element.appendChild(docLink);\n",
              "        }\n",
              "      </script>\n",
              "    </div>\n",
              "  </div>\n",
              "  "
            ]
          },
          "metadata": {},
          "execution_count": 76
        }
      ]
    },
    {
      "cell_type": "code",
      "source": [
        "data.columns"
      ],
      "metadata": {
        "colab": {
          "base_uri": "https://localhost:8080/"
        },
        "id": "g62T5qmB95Cc",
        "outputId": "f0327800-94ae-4f12-9fd0-7febbc1d0502"
      },
      "execution_count": 77,
      "outputs": [
        {
          "output_type": "execute_result",
          "data": {
            "text/plain": [
              "Index(['AREA', 'INT_SQFT', 'N_BEDROOM', 'N_BATHROOM', 'N_ROOM', 'SALE_COND',\n",
              "       'PARK_FACIL', 'UTILITY_AVAIL', 'STREET', 'MZZONE', 'SALES_PRICE', 'AGE',\n",
              "       'Commercial', 'House', 'Other'],\n",
              "      dtype='object')"
            ]
          },
          "metadata": {},
          "execution_count": 77
        }
      ]
    },
    {
      "cell_type": "code",
      "source": [
        "data.info()"
      ],
      "metadata": {
        "colab": {
          "base_uri": "https://localhost:8080/"
        },
        "id": "K2eXL8sSDNNk",
        "outputId": "37615560-59bc-41c8-838b-24b6f71feca4"
      },
      "execution_count": 78,
      "outputs": [
        {
          "output_type": "stream",
          "name": "stdout",
          "text": [
            "<class 'pandas.core.frame.DataFrame'>\n",
            "RangeIndex: 7109 entries, 0 to 7108\n",
            "Data columns (total 15 columns):\n",
            " #   Column         Non-Null Count  Dtype  \n",
            "---  ------         --------------  -----  \n",
            " 0   AREA           7109 non-null   int64  \n",
            " 1   INT_SQFT       7109 non-null   int64  \n",
            " 2   N_BEDROOM      7109 non-null   float64\n",
            " 3   N_BATHROOM     7109 non-null   float64\n",
            " 4   N_ROOM         7109 non-null   int64  \n",
            " 5   SALE_COND      7109 non-null   int64  \n",
            " 6   PARK_FACIL     7109 non-null   int64  \n",
            " 7   UTILITY_AVAIL  7109 non-null   int64  \n",
            " 8   STREET         7109 non-null   int64  \n",
            " 9   MZZONE         7109 non-null   int64  \n",
            " 10  SALES_PRICE    7109 non-null   int64  \n",
            " 11  AGE            7109 non-null   int64  \n",
            " 12  Commercial     7109 non-null   int64  \n",
            " 13  House          7109 non-null   int64  \n",
            " 14  Other          7109 non-null   int64  \n",
            "dtypes: float64(2), int64(13)\n",
            "memory usage: 833.2 KB\n"
          ]
        }
      ]
    },
    {
      "cell_type": "code",
      "source": [
        "data.N_BATHROOM = data.N_BATHROOM.astype(int)\n",
        "data.N_BEDROOM = data.N_BEDROOM.astype(int)\n"
      ],
      "metadata": {
        "id": "A2JXQXNxId_u"
      },
      "execution_count": 79,
      "outputs": []
    },
    {
      "cell_type": "markdown",
      "source": [
        "linear reg"
      ],
      "metadata": {
        "id": "E6jl2E_f-Xb9"
      }
    },
    {
      "cell_type": "code",
      "source": [
        "X=data[['AREA', 'INT_SQFT','UTILITY_AVAIL', 'N_BEDROOM', 'N_BATHROOM', 'N_ROOM', 'SALE_COND',\n",
        "       'PARK_FACIL', 'STREET', 'MZZONE', 'AGE',\n",
        "       'Commercial', 'House', 'Other']]\n",
        "y=data['SALES_PRICE']"
      ],
      "metadata": {
        "id": "5tg15GDT-AzT"
      },
      "execution_count": 80,
      "outputs": []
    },
    {
      "cell_type": "code",
      "source": [
        "from sklearn.model_selection import train_test_split\n",
        "from sklearn.preprocessing import StandardScaler\n",
        "from sklearn.linear_model import LinearRegression\n",
        "from sklearn import metrics "
      ],
      "metadata": {
        "id": "hdPi2O_e-ssu"
      },
      "execution_count": 81,
      "outputs": []
    },
    {
      "cell_type": "code",
      "source": [
        "X_train,X_test,y_train,y_test=train_test_split(X,y,test_size=0.2,)"
      ],
      "metadata": {
        "id": "YEbZVU4q_Vig"
      },
      "execution_count": 82,
      "outputs": []
    },
    {
      "cell_type": "code",
      "source": [
        "X_train.shape,X_test.shape"
      ],
      "metadata": {
        "colab": {
          "base_uri": "https://localhost:8080/"
        },
        "id": "5gd0WwYb_q4X",
        "outputId": "0eceeddd-647a-44c8-a041-fb2ab404fb62"
      },
      "execution_count": 83,
      "outputs": [
        {
          "output_type": "execute_result",
          "data": {
            "text/plain": [
              "((5687, 14), (1422, 14))"
            ]
          },
          "metadata": {},
          "execution_count": 83
        }
      ]
    },
    {
      "cell_type": "code",
      "source": [
        "regressor = LinearRegression()\n",
        "regressor.fit(X_train,y_train)"
      ],
      "metadata": {
        "colab": {
          "base_uri": "https://localhost:8080/"
        },
        "id": "ohH6hdaG_83B",
        "outputId": "842aa0fa-1a32-4db0-ee2f-1a2bf9c5deda"
      },
      "execution_count": 84,
      "outputs": [
        {
          "output_type": "execute_result",
          "data": {
            "text/plain": [
              "LinearRegression()"
            ]
          },
          "metadata": {},
          "execution_count": 84
        }
      ]
    },
    {
      "cell_type": "code",
      "source": [
        "y_pred=regressor.predict(X_test)\n",
        "y_pred"
      ],
      "metadata": {
        "colab": {
          "base_uri": "https://localhost:8080/"
        },
        "id": "8F1RlFcIQb9h",
        "outputId": "3fcc3737-af4d-4d21-c2f6-b44c62c0d637"
      },
      "execution_count": 85,
      "outputs": [
        {
          "output_type": "execute_result",
          "data": {
            "text/plain": [
              "array([ 6224345.17405572,  7060686.22082926, 10689859.81507401, ...,\n",
              "        8746114.04176491,  9690495.79032944,  8667862.6332429 ])"
            ]
          },
          "metadata": {},
          "execution_count": 85
        }
      ]
    },
    {
      "cell_type": "code",
      "source": [
        "df=pd.DataFrame({'Actual':y_test,'Predicted':y_pred})\n",
        "df"
      ],
      "metadata": {
        "colab": {
          "base_uri": "https://localhost:8080/",
          "height": 423
        },
        "id": "lLv5BMqeTKRu",
        "outputId": "9659b539-ab36-468f-c324-42a1c1aa4ac3"
      },
      "execution_count": 86,
      "outputs": [
        {
          "output_type": "execute_result",
          "data": {
            "text/plain": [
              "        Actual     Predicted\n",
              "5722   8182525  6.224345e+06\n",
              "6993   6987500  7.060686e+06\n",
              "4638  10241290  1.068986e+07\n",
              "3416   8944400  8.572068e+06\n",
              "4747   7393940  5.888968e+06\n",
              "...        ...           ...\n",
              "3567  11399205  1.148525e+07\n",
              "2110  12687420  1.336095e+07\n",
              "3697   6754500  8.746114e+06\n",
              "6717  10039720  9.690496e+06\n",
              "6258   9317950  8.667863e+06\n",
              "\n",
              "[1422 rows x 2 columns]"
            ],
            "text/html": [
              "\n",
              "  <div id=\"df-c73034a1-fa4b-46ba-a8e0-c164cb03b59d\">\n",
              "    <div class=\"colab-df-container\">\n",
              "      <div>\n",
              "<style scoped>\n",
              "    .dataframe tbody tr th:only-of-type {\n",
              "        vertical-align: middle;\n",
              "    }\n",
              "\n",
              "    .dataframe tbody tr th {\n",
              "        vertical-align: top;\n",
              "    }\n",
              "\n",
              "    .dataframe thead th {\n",
              "        text-align: right;\n",
              "    }\n",
              "</style>\n",
              "<table border=\"1\" class=\"dataframe\">\n",
              "  <thead>\n",
              "    <tr style=\"text-align: right;\">\n",
              "      <th></th>\n",
              "      <th>Actual</th>\n",
              "      <th>Predicted</th>\n",
              "    </tr>\n",
              "  </thead>\n",
              "  <tbody>\n",
              "    <tr>\n",
              "      <th>5722</th>\n",
              "      <td>8182525</td>\n",
              "      <td>6.224345e+06</td>\n",
              "    </tr>\n",
              "    <tr>\n",
              "      <th>6993</th>\n",
              "      <td>6987500</td>\n",
              "      <td>7.060686e+06</td>\n",
              "    </tr>\n",
              "    <tr>\n",
              "      <th>4638</th>\n",
              "      <td>10241290</td>\n",
              "      <td>1.068986e+07</td>\n",
              "    </tr>\n",
              "    <tr>\n",
              "      <th>3416</th>\n",
              "      <td>8944400</td>\n",
              "      <td>8.572068e+06</td>\n",
              "    </tr>\n",
              "    <tr>\n",
              "      <th>4747</th>\n",
              "      <td>7393940</td>\n",
              "      <td>5.888968e+06</td>\n",
              "    </tr>\n",
              "    <tr>\n",
              "      <th>...</th>\n",
              "      <td>...</td>\n",
              "      <td>...</td>\n",
              "    </tr>\n",
              "    <tr>\n",
              "      <th>3567</th>\n",
              "      <td>11399205</td>\n",
              "      <td>1.148525e+07</td>\n",
              "    </tr>\n",
              "    <tr>\n",
              "      <th>2110</th>\n",
              "      <td>12687420</td>\n",
              "      <td>1.336095e+07</td>\n",
              "    </tr>\n",
              "    <tr>\n",
              "      <th>3697</th>\n",
              "      <td>6754500</td>\n",
              "      <td>8.746114e+06</td>\n",
              "    </tr>\n",
              "    <tr>\n",
              "      <th>6717</th>\n",
              "      <td>10039720</td>\n",
              "      <td>9.690496e+06</td>\n",
              "    </tr>\n",
              "    <tr>\n",
              "      <th>6258</th>\n",
              "      <td>9317950</td>\n",
              "      <td>8.667863e+06</td>\n",
              "    </tr>\n",
              "  </tbody>\n",
              "</table>\n",
              "<p>1422 rows × 2 columns</p>\n",
              "</div>\n",
              "      <button class=\"colab-df-convert\" onclick=\"convertToInteractive('df-c73034a1-fa4b-46ba-a8e0-c164cb03b59d')\"\n",
              "              title=\"Convert this dataframe to an interactive table.\"\n",
              "              style=\"display:none;\">\n",
              "        \n",
              "  <svg xmlns=\"http://www.w3.org/2000/svg\" height=\"24px\"viewBox=\"0 0 24 24\"\n",
              "       width=\"24px\">\n",
              "    <path d=\"M0 0h24v24H0V0z\" fill=\"none\"/>\n",
              "    <path d=\"M18.56 5.44l.94 2.06.94-2.06 2.06-.94-2.06-.94-.94-2.06-.94 2.06-2.06.94zm-11 1L8.5 8.5l.94-2.06 2.06-.94-2.06-.94L8.5 2.5l-.94 2.06-2.06.94zm10 10l.94 2.06.94-2.06 2.06-.94-2.06-.94-.94-2.06-.94 2.06-2.06.94z\"/><path d=\"M17.41 7.96l-1.37-1.37c-.4-.4-.92-.59-1.43-.59-.52 0-1.04.2-1.43.59L10.3 9.45l-7.72 7.72c-.78.78-.78 2.05 0 2.83L4 21.41c.39.39.9.59 1.41.59.51 0 1.02-.2 1.41-.59l7.78-7.78 2.81-2.81c.8-.78.8-2.07 0-2.86zM5.41 20L4 18.59l7.72-7.72 1.47 1.35L5.41 20z\"/>\n",
              "  </svg>\n",
              "      </button>\n",
              "      \n",
              "  <style>\n",
              "    .colab-df-container {\n",
              "      display:flex;\n",
              "      flex-wrap:wrap;\n",
              "      gap: 12px;\n",
              "    }\n",
              "\n",
              "    .colab-df-convert {\n",
              "      background-color: #E8F0FE;\n",
              "      border: none;\n",
              "      border-radius: 50%;\n",
              "      cursor: pointer;\n",
              "      display: none;\n",
              "      fill: #1967D2;\n",
              "      height: 32px;\n",
              "      padding: 0 0 0 0;\n",
              "      width: 32px;\n",
              "    }\n",
              "\n",
              "    .colab-df-convert:hover {\n",
              "      background-color: #E2EBFA;\n",
              "      box-shadow: 0px 1px 2px rgba(60, 64, 67, 0.3), 0px 1px 3px 1px rgba(60, 64, 67, 0.15);\n",
              "      fill: #174EA6;\n",
              "    }\n",
              "\n",
              "    [theme=dark] .colab-df-convert {\n",
              "      background-color: #3B4455;\n",
              "      fill: #D2E3FC;\n",
              "    }\n",
              "\n",
              "    [theme=dark] .colab-df-convert:hover {\n",
              "      background-color: #434B5C;\n",
              "      box-shadow: 0px 1px 3px 1px rgba(0, 0, 0, 0.15);\n",
              "      filter: drop-shadow(0px 1px 2px rgba(0, 0, 0, 0.3));\n",
              "      fill: #FFFFFF;\n",
              "    }\n",
              "  </style>\n",
              "\n",
              "      <script>\n",
              "        const buttonEl =\n",
              "          document.querySelector('#df-c73034a1-fa4b-46ba-a8e0-c164cb03b59d button.colab-df-convert');\n",
              "        buttonEl.style.display =\n",
              "          google.colab.kernel.accessAllowed ? 'block' : 'none';\n",
              "\n",
              "        async function convertToInteractive(key) {\n",
              "          const element = document.querySelector('#df-c73034a1-fa4b-46ba-a8e0-c164cb03b59d');\n",
              "          const dataTable =\n",
              "            await google.colab.kernel.invokeFunction('convertToInteractive',\n",
              "                                                     [key], {});\n",
              "          if (!dataTable) return;\n",
              "\n",
              "          const docLinkHtml = 'Like what you see? Visit the ' +\n",
              "            '<a target=\"_blank\" href=https://colab.research.google.com/notebooks/data_table.ipynb>data table notebook</a>'\n",
              "            + ' to learn more about interactive tables.';\n",
              "          element.innerHTML = '';\n",
              "          dataTable['output_type'] = 'display_data';\n",
              "          await google.colab.output.renderOutput(dataTable, element);\n",
              "          const docLink = document.createElement('div');\n",
              "          docLink.innerHTML = docLinkHtml;\n",
              "          element.appendChild(docLink);\n",
              "        }\n",
              "      </script>\n",
              "    </div>\n",
              "  </div>\n",
              "  "
            ]
          },
          "metadata": {},
          "execution_count": 86
        }
      ]
    },
    {
      "cell_type": "code",
      "source": [
        "print('rr value is:',metrics.r2_score(y_test,y_pred))"
      ],
      "metadata": {
        "colab": {
          "base_uri": "https://localhost:8080/"
        },
        "id": "1fxGtt3XTY1h",
        "outputId": "6730e9f4-c5f6-470f-8a3c-ac4d92246ac4"
      },
      "execution_count": 87,
      "outputs": [
        {
          "output_type": "stream",
          "name": "stdout",
          "text": [
            "rr value is: 0.9248862749367923\n"
          ]
        }
      ]
    },
    {
      "cell_type": "markdown",
      "source": [
        "knn"
      ],
      "metadata": {
        "id": "ArXtHTQxTsSG"
      }
    },
    {
      "cell_type": "code",
      "source": [
        "from sklearn.neighbors import KNeighborsClassifier\n",
        "from sklearn.model_selection import train_test_split\n",
        "from sklearn.preprocessing import StandardScaler"
      ],
      "metadata": {
        "id": "GhdCTNRaTrSP"
      },
      "execution_count": 88,
      "outputs": []
    },
    {
      "cell_type": "code",
      "source": [
        "a=data.iloc[:,:-1]\n",
        "b = data.iloc[:,-1]"
      ],
      "metadata": {
        "id": "ypbvCLHdbO4U"
      },
      "execution_count": 89,
      "outputs": []
    },
    {
      "cell_type": "code",
      "source": [
        "a_train,a_test,b_train,b_test=train_test_split(a,b,test_size=0.25,random_state=0)"
      ],
      "metadata": {
        "id": "txDru1EBbdNX"
      },
      "execution_count": 90,
      "outputs": []
    },
    {
      "cell_type": "code",
      "source": [
        "sc=StandardScaler()\n",
        "a_train=sc.fit_transform(a_train)\n",
        "a_test=sc.transform(a_test)\n"
      ],
      "metadata": {
        "id": "VILUoLJwbxWK"
      },
      "execution_count": 91,
      "outputs": []
    },
    {
      "cell_type": "code",
      "source": [
        "classifier = KNeighborsClassifier(n_neighbors=5 , metric='minkowski' , p=2)\n",
        "classifier.fit(a_train,b_train)"
      ],
      "metadata": {
        "colab": {
          "base_uri": "https://localhost:8080/"
        },
        "id": "uMeppswBcHbC",
        "outputId": "d54edd98-8198-447c-baa3-adf4903e568b"
      },
      "execution_count": 92,
      "outputs": [
        {
          "output_type": "execute_result",
          "data": {
            "text/plain": [
              "KNeighborsClassifier()"
            ]
          },
          "metadata": {},
          "execution_count": 92
        }
      ]
    },
    {
      "cell_type": "code",
      "source": [
        "b_pred = classifier.predict(a_test)\n",
        "b_pred"
      ],
      "metadata": {
        "colab": {
          "base_uri": "https://localhost:8080/"
        },
        "id": "jDuPGtR8cOWA",
        "outputId": "a2b97766-8e04-4910-dcf9-e6b8e25de1e8"
      },
      "execution_count": 93,
      "outputs": [
        {
          "output_type": "execute_result",
          "data": {
            "text/plain": [
              "array([0, 1, 0, ..., 0, 0, 1])"
            ]
          },
          "metadata": {},
          "execution_count": 93
        }
      ]
    },
    {
      "cell_type": "code",
      "source": [
        "score=classifier.score(a,b)\n",
        "score"
      ],
      "metadata": {
        "colab": {
          "base_uri": "https://localhost:8080/"
        },
        "id": "1frEGACWdEEW",
        "outputId": "dc980d83-52e7-4db7-fe97-224e71862d0e"
      },
      "execution_count": 94,
      "outputs": [
        {
          "output_type": "stream",
          "name": "stderr",
          "text": [
            "/usr/local/lib/python3.7/dist-packages/sklearn/base.py:444: UserWarning: X has feature names, but KNeighborsClassifier was fitted without feature names\n",
            "  f\"X has feature names, but {self.__class__.__name__} was fitted without\"\n"
          ]
        },
        {
          "output_type": "execute_result",
          "data": {
            "text/plain": [
              "0.6714024476016317"
            ]
          },
          "metadata": {},
          "execution_count": 94
        }
      ]
    },
    {
      "cell_type": "code",
      "source": [
        "from sklearn.metrics import classification_report,confusion_matrix\n",
        "\n",
        "print(confusion_matrix(b_test,b_pred))"
      ],
      "metadata": {
        "colab": {
          "base_uri": "https://localhost:8080/"
        },
        "id": "BPZAudANop5A",
        "outputId": "578f49c3-199c-467c-fc18-ee8b40bd9b43"
      },
      "execution_count": 95,
      "outputs": [
        {
          "output_type": "stream",
          "name": "stdout",
          "text": [
            "[[1176    0]\n",
            " [   0  602]]\n"
          ]
        }
      ]
    },
    {
      "cell_type": "markdown",
      "source": [
        "xgb"
      ],
      "metadata": {
        "id": "jPRvyreadVdU"
      }
    },
    {
      "cell_type": "code",
      "source": [
        "import xgboost as xgb"
      ],
      "metadata": {
        "id": "R_Kz6z37dUM4"
      },
      "execution_count": 96,
      "outputs": []
    },
    {
      "cell_type": "code",
      "source": [
        "c=data.iloc[:,:-1]\n",
        "d = data.iloc[:,-1]"
      ],
      "metadata": {
        "id": "BQle7xXvPayY"
      },
      "execution_count": 97,
      "outputs": []
    },
    {
      "cell_type": "code",
      "source": [
        "data_dmatrix=xgb.DMatrix(data=c,label=d)"
      ],
      "metadata": {
        "id": "fG3sGkA4Pki7"
      },
      "execution_count": 98,
      "outputs": []
    },
    {
      "cell_type": "code",
      "source": [
        "c_train,c_test,d_train,d_test=train_test_split(c,d,test_size=0.2,random_state=123)"
      ],
      "metadata": {
        "id": "EXcZw9nfQPQ5"
      },
      "execution_count": 99,
      "outputs": []
    },
    {
      "cell_type": "code",
      "source": [
        "xg_reg=xgb.XGBClassifier(objective='binary:logistic',colsample_bytree=0.3,learning_rate=0.1,max_depth=5,alpha=10,n_estimators=10)"
      ],
      "metadata": {
        "id": "V-FIL8TxQf0D"
      },
      "execution_count": 100,
      "outputs": []
    },
    {
      "cell_type": "code",
      "source": [
        "xg_reg.fit(c_train,d_train)\n",
        "d_pred=xg_reg.predict(c_test)"
      ],
      "metadata": {
        "id": "b4x9VTMQ4Uaa"
      },
      "execution_count": 101,
      "outputs": []
    },
    {
      "cell_type": "code",
      "source": [
        "from sklearn.metrics import accuracy_score\n",
        "\n",
        "print('XGBoost model accuracy score: {0:0.4f}'. format(accuracy_score(d_test, d_pred)))"
      ],
      "metadata": {
        "id": "SgGuLCjH4Z3t",
        "colab": {
          "base_uri": "https://localhost:8080/"
        },
        "outputId": "ef2a46fa-9622-4e89-e27c-163269a7eb5d"
      },
      "execution_count": 102,
      "outputs": [
        {
          "output_type": "stream",
          "name": "stdout",
          "text": [
            "XGBoost model accuracy score: 0.9782\n"
          ]
        }
      ]
    },
    {
      "cell_type": "code",
      "source": [
        "xgb.plot_importance(xg_reg)\n",
        "plt.rcParams['figure.figsize'] = [6, 4]\n",
        "plt.show()"
      ],
      "metadata": {
        "id": "vDwW1UNxvtUx",
        "colab": {
          "base_uri": "https://localhost:8080/",
          "height": 295
        },
        "outputId": "677018bc-f110-44d9-f49b-eef714a7fb6d"
      },
      "execution_count": 103,
      "outputs": [
        {
          "output_type": "display_data",
          "data": {
            "text/plain": [
              "<Figure size 432x288 with 1 Axes>"
            ],
            "image/png": "[encoded data removed]"
          },
          "metadata": {
            "needs_background": "light"
          }
        }
      ]
    },
    {
      "cell_type": "markdown",
      "source": [
        ""
      ],
      "metadata": {
        "id": "wwTsFJnHw681"
      }
    },
    {
      "cell_type": "code",
      "source": [
        ""
      ],
      "metadata": {
        "id": "CaXfUQchZ2AN"
      },
      "execution_count": 103,
      "outputs": []
    }
  ]
}